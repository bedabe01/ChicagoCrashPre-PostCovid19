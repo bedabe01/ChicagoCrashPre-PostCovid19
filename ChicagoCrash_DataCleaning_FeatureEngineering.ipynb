{
 "cells": [
  {
   "cell_type": "code",
   "execution_count": 1,
   "metadata": {},
   "outputs": [],
   "source": [
    "import numpy as np\n",
    "import pandas as pd\n",
    "import math\n",
    "import base64"
   ]
  },
  {
   "cell_type": "markdown",
   "metadata": {},
   "source": [
    "### Chicago Crash Data Cleaning || Feature Engineering || Formatting"
   ]
  },
  {
   "cell_type": "code",
   "execution_count": 2,
   "metadata": {},
   "outputs": [],
   "source": [
    "#-------------- Read Chicago Crash Data\n",
    "\n",
    "crash_df = pd.read_csv(\"chicago_data/traffic_crashes_2022.csv\")"
   ]
  },
  {
   "cell_type": "code",
   "execution_count": 3,
   "metadata": {},
   "outputs": [
    {
     "data": {
      "text/plain": [
       "(576357, 49)"
      ]
     },
     "execution_count": 3,
     "metadata": {},
     "output_type": "execute_result"
    }
   ],
   "source": [
    "#-------------- Check Dataset Shape\n",
    "\n",
    "crash_df.shape"
   ]
  },
  {
   "cell_type": "code",
   "execution_count": 4,
   "metadata": {},
   "outputs": [
    {
     "data": {
      "text/html": [
       "<div>\n",
       "<style scoped>\n",
       "    .dataframe tbody tr th:only-of-type {\n",
       "        vertical-align: middle;\n",
       "    }\n",
       "\n",
       "    .dataframe tbody tr th {\n",
       "        vertical-align: top;\n",
       "    }\n",
       "\n",
       "    .dataframe thead th {\n",
       "        text-align: right;\n",
       "    }\n",
       "</style>\n",
       "<table border=\"1\" class=\"dataframe\">\n",
       "  <thead>\n",
       "    <tr style=\"text-align: right;\">\n",
       "      <th></th>\n",
       "      <th>CRASH_RECORD_ID</th>\n",
       "      <th>RD_NO</th>\n",
       "      <th>CRASH_DATE_EST_I</th>\n",
       "      <th>CRASH_DATE</th>\n",
       "      <th>POSTED_SPEED_LIMIT</th>\n",
       "      <th>TRAFFIC_CONTROL_DEVICE</th>\n",
       "      <th>DEVICE_CONDITION</th>\n",
       "      <th>WEATHER_CONDITION</th>\n",
       "      <th>LIGHTING_CONDITION</th>\n",
       "      <th>FIRST_CRASH_TYPE</th>\n",
       "      <th>...</th>\n",
       "      <th>INJURIES_NON_INCAPACITATING</th>\n",
       "      <th>INJURIES_REPORTED_NOT_EVIDENT</th>\n",
       "      <th>INJURIES_NO_INDICATION</th>\n",
       "      <th>INJURIES_UNKNOWN</th>\n",
       "      <th>CRASH_HOUR</th>\n",
       "      <th>CRASH_DAY_OF_WEEK</th>\n",
       "      <th>CRASH_MONTH</th>\n",
       "      <th>LATITUDE</th>\n",
       "      <th>LONGITUDE</th>\n",
       "      <th>LOCATION</th>\n",
       "    </tr>\n",
       "  </thead>\n",
       "  <tbody>\n",
       "    <tr>\n",
       "      <th>0</th>\n",
       "      <td>4fd0a3e0897b3335b94cd8d5b2d2b350eb691add56c62d...</td>\n",
       "      <td>JC343143</td>\n",
       "      <td>NaN</td>\n",
       "      <td>07/10/2019 05:56:00 PM</td>\n",
       "      <td>35</td>\n",
       "      <td>NO CONTROLS</td>\n",
       "      <td>NO CONTROLS</td>\n",
       "      <td>CLEAR</td>\n",
       "      <td>DAYLIGHT</td>\n",
       "      <td>TURNING</td>\n",
       "      <td>...</td>\n",
       "      <td>0.0</td>\n",
       "      <td>0.0</td>\n",
       "      <td>3.0</td>\n",
       "      <td>0.0</td>\n",
       "      <td>17</td>\n",
       "      <td>4</td>\n",
       "      <td>7</td>\n",
       "      <td>41.919664</td>\n",
       "      <td>-87.773288</td>\n",
       "      <td>POINT (-87.773287883007 41.919663832993)</td>\n",
       "    </tr>\n",
       "    <tr>\n",
       "      <th>1</th>\n",
       "      <td>009e9e67203442370272e1a13d6ee51a4155dac65e583d...</td>\n",
       "      <td>JA329216</td>\n",
       "      <td>NaN</td>\n",
       "      <td>06/30/2017 04:00:00 PM</td>\n",
       "      <td>35</td>\n",
       "      <td>STOP SIGN/FLASHER</td>\n",
       "      <td>FUNCTIONING PROPERLY</td>\n",
       "      <td>CLEAR</td>\n",
       "      <td>DAYLIGHT</td>\n",
       "      <td>TURNING</td>\n",
       "      <td>...</td>\n",
       "      <td>0.0</td>\n",
       "      <td>0.0</td>\n",
       "      <td>3.0</td>\n",
       "      <td>0.0</td>\n",
       "      <td>16</td>\n",
       "      <td>6</td>\n",
       "      <td>6</td>\n",
       "      <td>41.741804</td>\n",
       "      <td>-87.740954</td>\n",
       "      <td>POINT (-87.740953581987 41.741803598989)</td>\n",
       "    </tr>\n",
       "  </tbody>\n",
       "</table>\n",
       "<p>2 rows × 49 columns</p>\n",
       "</div>"
      ],
      "text/plain": [
       "                                     CRASH_RECORD_ID     RD_NO  \\\n",
       "0  4fd0a3e0897b3335b94cd8d5b2d2b350eb691add56c62d...  JC343143   \n",
       "1  009e9e67203442370272e1a13d6ee51a4155dac65e583d...  JA329216   \n",
       "\n",
       "  CRASH_DATE_EST_I              CRASH_DATE  POSTED_SPEED_LIMIT  \\\n",
       "0              NaN  07/10/2019 05:56:00 PM                  35   \n",
       "1              NaN  06/30/2017 04:00:00 PM                  35   \n",
       "\n",
       "  TRAFFIC_CONTROL_DEVICE      DEVICE_CONDITION WEATHER_CONDITION  \\\n",
       "0            NO CONTROLS           NO CONTROLS             CLEAR   \n",
       "1      STOP SIGN/FLASHER  FUNCTIONING PROPERLY             CLEAR   \n",
       "\n",
       "  LIGHTING_CONDITION FIRST_CRASH_TYPE  ... INJURIES_NON_INCAPACITATING  \\\n",
       "0           DAYLIGHT          TURNING  ...                         0.0   \n",
       "1           DAYLIGHT          TURNING  ...                         0.0   \n",
       "\n",
       "   INJURIES_REPORTED_NOT_EVIDENT INJURIES_NO_INDICATION INJURIES_UNKNOWN  \\\n",
       "0                            0.0                    3.0              0.0   \n",
       "1                            0.0                    3.0              0.0   \n",
       "\n",
       "  CRASH_HOUR CRASH_DAY_OF_WEEK CRASH_MONTH   LATITUDE  LONGITUDE  \\\n",
       "0         17                 4           7  41.919664 -87.773288   \n",
       "1         16                 6           6  41.741804 -87.740954   \n",
       "\n",
       "                                   LOCATION  \n",
       "0  POINT (-87.773287883007 41.919663832993)  \n",
       "1  POINT (-87.740953581987 41.741803598989)  \n",
       "\n",
       "[2 rows x 49 columns]"
      ]
     },
     "execution_count": 4,
     "metadata": {},
     "output_type": "execute_result"
    }
   ],
   "source": [
    "#-------------- Check Columns and Dataset\n",
    "\n",
    "#print(crash_df.columns)\n",
    "crash_df.head(2)"
   ]
  },
  {
   "cell_type": "code",
   "execution_count": 5,
   "metadata": {},
   "outputs": [
    {
     "data": {
      "text/html": [
       "<div>\n",
       "<style scoped>\n",
       "    .dataframe tbody tr th:only-of-type {\n",
       "        vertical-align: middle;\n",
       "    }\n",
       "\n",
       "    .dataframe tbody tr th {\n",
       "        vertical-align: top;\n",
       "    }\n",
       "\n",
       "    .dataframe thead th {\n",
       "        text-align: right;\n",
       "    }\n",
       "</style>\n",
       "<table border=\"1\" class=\"dataframe\">\n",
       "  <thead>\n",
       "    <tr style=\"text-align: right;\">\n",
       "      <th></th>\n",
       "      <th>CRASH_RECORD_ID</th>\n",
       "      <th>CRASH_DATE</th>\n",
       "      <th>POSTED_SPEED_LIMIT</th>\n",
       "      <th>WEATHER_CONDITION</th>\n",
       "      <th>ROADWAY_SURFACE_COND</th>\n",
       "      <th>ROAD_DEFECT</th>\n",
       "      <th>CRASH_TYPE</th>\n",
       "      <th>NUM_UNITS</th>\n",
       "      <th>INJURIES_TOTAL</th>\n",
       "      <th>INJURIES_FATAL</th>\n",
       "      <th>INJURIES_INCAPACITATING</th>\n",
       "      <th>CRASH_HOUR</th>\n",
       "      <th>CRASH_DAY_OF_WEEK</th>\n",
       "      <th>CRASH_MONTH</th>\n",
       "      <th>LATITUDE</th>\n",
       "      <th>LONGITUDE</th>\n",
       "      <th>LOCATION</th>\n",
       "    </tr>\n",
       "  </thead>\n",
       "  <tbody>\n",
       "    <tr>\n",
       "      <th>0</th>\n",
       "      <td>4fd0a3e0897b3335b94cd8d5b2d2b350eb691add56c62d...</td>\n",
       "      <td>07/10/2019 05:56:00 PM</td>\n",
       "      <td>35</td>\n",
       "      <td>CLEAR</td>\n",
       "      <td>DRY</td>\n",
       "      <td>NO DEFECTS</td>\n",
       "      <td>NO INJURY / DRIVE AWAY</td>\n",
       "      <td>2.0</td>\n",
       "      <td>0.0</td>\n",
       "      <td>0.0</td>\n",
       "      <td>0.0</td>\n",
       "      <td>17</td>\n",
       "      <td>4</td>\n",
       "      <td>7</td>\n",
       "      <td>41.919664</td>\n",
       "      <td>-87.773288</td>\n",
       "      <td>POINT (-87.773287883007 41.919663832993)</td>\n",
       "    </tr>\n",
       "    <tr>\n",
       "      <th>1</th>\n",
       "      <td>009e9e67203442370272e1a13d6ee51a4155dac65e583d...</td>\n",
       "      <td>06/30/2017 04:00:00 PM</td>\n",
       "      <td>35</td>\n",
       "      <td>CLEAR</td>\n",
       "      <td>DRY</td>\n",
       "      <td>NO DEFECTS</td>\n",
       "      <td>INJURY AND / OR TOW DUE TO CRASH</td>\n",
       "      <td>2.0</td>\n",
       "      <td>0.0</td>\n",
       "      <td>0.0</td>\n",
       "      <td>0.0</td>\n",
       "      <td>16</td>\n",
       "      <td>6</td>\n",
       "      <td>6</td>\n",
       "      <td>41.741804</td>\n",
       "      <td>-87.740954</td>\n",
       "      <td>POINT (-87.740953581987 41.741803598989)</td>\n",
       "    </tr>\n",
       "  </tbody>\n",
       "</table>\n",
       "</div>"
      ],
      "text/plain": [
       "                                     CRASH_RECORD_ID              CRASH_DATE  \\\n",
       "0  4fd0a3e0897b3335b94cd8d5b2d2b350eb691add56c62d...  07/10/2019 05:56:00 PM   \n",
       "1  009e9e67203442370272e1a13d6ee51a4155dac65e583d...  06/30/2017 04:00:00 PM   \n",
       "\n",
       "   POSTED_SPEED_LIMIT WEATHER_CONDITION ROADWAY_SURFACE_COND ROAD_DEFECT  \\\n",
       "0                  35             CLEAR                  DRY  NO DEFECTS   \n",
       "1                  35             CLEAR                  DRY  NO DEFECTS   \n",
       "\n",
       "                         CRASH_TYPE  NUM_UNITS  INJURIES_TOTAL  \\\n",
       "0            NO INJURY / DRIVE AWAY        2.0             0.0   \n",
       "1  INJURY AND / OR TOW DUE TO CRASH        2.0             0.0   \n",
       "\n",
       "   INJURIES_FATAL  INJURIES_INCAPACITATING  CRASH_HOUR  CRASH_DAY_OF_WEEK  \\\n",
       "0             0.0                      0.0          17                  4   \n",
       "1             0.0                      0.0          16                  6   \n",
       "\n",
       "   CRASH_MONTH   LATITUDE  LONGITUDE                                  LOCATION  \n",
       "0            7  41.919664 -87.773288  POINT (-87.773287883007 41.919663832993)  \n",
       "1            6  41.741804 -87.740954  POINT (-87.740953581987 41.741803598989)  "
      ]
     },
     "execution_count": 5,
     "metadata": {},
     "output_type": "execute_result"
    }
   ],
   "source": [
    "#-------------- Extract All Relevant Fields\n",
    "\n",
    "relevent_columns = [\"CRASH_RECORD_ID\",\"CRASH_DATE\",\"POSTED_SPEED_LIMIT\",\n",
    "                    \"WEATHER_CONDITION\",\"ROADWAY_SURFACE_COND\",\"ROAD_DEFECT\",\n",
    "                    \"CRASH_TYPE\",\"NUM_UNITS\",\"INJURIES_TOTAL\",\"INJURIES_FATAL\",\n",
    "                    \"INJURIES_INCAPACITATING\",\"CRASH_HOUR\",\"CRASH_DAY_OF_WEEK\",\n",
    "                    \"CRASH_MONTH\",\"LATITUDE\",\"LONGITUDE\",\"LOCATION\"]\n",
    "crash_df_v2 = crash_df.copy()\n",
    "crash_df_v2 = crash_df_v2[relevent_columns]\n",
    "crash_df_v2.head(2)"
   ]
  },
  {
   "cell_type": "code",
   "execution_count": 6,
   "metadata": {},
   "outputs": [
    {
     "data": {
      "text/plain": [
       "'\\nNo need to rename columns as they are aleady named properly\\nLook into values in columns to evalue restructure (re-categorize/rename)\\nAssess the need to convert data types\\n'"
      ]
     },
     "execution_count": 6,
     "metadata": {},
     "output_type": "execute_result"
    }
   ],
   "source": [
    "\"\"\"\n",
    "No need to rename columns as they are aleady named properly\n",
    "Look into values in columns to evalue restructure (re-categorize/rename)\n",
    "Assess the need to convert data types\n",
    "\"\"\""
   ]
  },
  {
   "cell_type": "code",
   "execution_count": 7,
   "metadata": {},
   "outputs": [
    {
     "data": {
      "text/html": [
       "<div>\n",
       "<style scoped>\n",
       "    .dataframe tbody tr th:only-of-type {\n",
       "        vertical-align: middle;\n",
       "    }\n",
       "\n",
       "    .dataframe tbody tr th {\n",
       "        vertical-align: top;\n",
       "    }\n",
       "\n",
       "    .dataframe thead th {\n",
       "        text-align: right;\n",
       "    }\n",
       "</style>\n",
       "<table border=\"1\" class=\"dataframe\">\n",
       "  <thead>\n",
       "    <tr style=\"text-align: right;\">\n",
       "      <th></th>\n",
       "      <th>CRASH_RECORD_ID</th>\n",
       "      <th>CRASH_DATE</th>\n",
       "      <th>POSTED_SPEED_LIMIT</th>\n",
       "      <th>WEATHER_CONDITION</th>\n",
       "      <th>ROADWAY_SURFACE_COND</th>\n",
       "      <th>ROAD_DEFECT</th>\n",
       "      <th>CRASH_TYPE</th>\n",
       "      <th>NUM_UNITS</th>\n",
       "      <th>INJURIES_TOTAL</th>\n",
       "      <th>INJURIES_FATAL</th>\n",
       "      <th>INJURIES_INCAPACITATING</th>\n",
       "      <th>CRASH_HOUR</th>\n",
       "      <th>CRASH_MONTH</th>\n",
       "      <th>LATITUDE</th>\n",
       "      <th>LONGITUDE</th>\n",
       "      <th>LOCATION</th>\n",
       "      <th>YEAR</th>\n",
       "      <th>WEEK_DAY_NAME</th>\n",
       "    </tr>\n",
       "  </thead>\n",
       "  <tbody>\n",
       "    <tr>\n",
       "      <th>576355</th>\n",
       "      <td>d51aae396db49981c7ee26ceb54dfcab3c4b06d0cc5d7d...</td>\n",
       "      <td>2021-07-12 10:00:00</td>\n",
       "      <td>30</td>\n",
       "      <td>CLEAR</td>\n",
       "      <td>DRY</td>\n",
       "      <td>NO DEFECTS</td>\n",
       "      <td>INJURY AND / OR TOW DUE TO CRASH</td>\n",
       "      <td>2.0</td>\n",
       "      <td>1.0</td>\n",
       "      <td>0.0</td>\n",
       "      <td>0.0</td>\n",
       "      <td>10</td>\n",
       "      <td>7</td>\n",
       "      <td>41.752918</td>\n",
       "      <td>-87.621573</td>\n",
       "      <td>POINT (-87.621572939578 41.752917594949)</td>\n",
       "      <td>2021</td>\n",
       "      <td>Monday</td>\n",
       "    </tr>\n",
       "    <tr>\n",
       "      <th>576356</th>\n",
       "      <td>c83fa5092963bda54b781bf8cfdd840b5106004afbdd34...</td>\n",
       "      <td>2021-07-13 22:30:00</td>\n",
       "      <td>30</td>\n",
       "      <td>CLEAR</td>\n",
       "      <td>DRY</td>\n",
       "      <td>NO DEFECTS</td>\n",
       "      <td>INJURY AND / OR TOW DUE TO CRASH</td>\n",
       "      <td>3.0</td>\n",
       "      <td>0.0</td>\n",
       "      <td>0.0</td>\n",
       "      <td>0.0</td>\n",
       "      <td>22</td>\n",
       "      <td>7</td>\n",
       "      <td>41.804003</td>\n",
       "      <td>-87.603354</td>\n",
       "      <td>POINT (-87.603354308388 41.804002931352)</td>\n",
       "      <td>2021</td>\n",
       "      <td>Tuesday</td>\n",
       "    </tr>\n",
       "  </tbody>\n",
       "</table>\n",
       "</div>"
      ],
      "text/plain": [
       "                                          CRASH_RECORD_ID          CRASH_DATE  \\\n",
       "576355  d51aae396db49981c7ee26ceb54dfcab3c4b06d0cc5d7d... 2021-07-12 10:00:00   \n",
       "576356  c83fa5092963bda54b781bf8cfdd840b5106004afbdd34... 2021-07-13 22:30:00   \n",
       "\n",
       "        POSTED_SPEED_LIMIT WEATHER_CONDITION ROADWAY_SURFACE_COND ROAD_DEFECT  \\\n",
       "576355                  30             CLEAR                  DRY  NO DEFECTS   \n",
       "576356                  30             CLEAR                  DRY  NO DEFECTS   \n",
       "\n",
       "                              CRASH_TYPE  NUM_UNITS  INJURIES_TOTAL  \\\n",
       "576355  INJURY AND / OR TOW DUE TO CRASH        2.0             1.0   \n",
       "576356  INJURY AND / OR TOW DUE TO CRASH        3.0             0.0   \n",
       "\n",
       "        INJURIES_FATAL  INJURIES_INCAPACITATING  CRASH_HOUR  CRASH_MONTH  \\\n",
       "576355             0.0                      0.0          10            7   \n",
       "576356             0.0                      0.0          22            7   \n",
       "\n",
       "         LATITUDE  LONGITUDE                                  LOCATION  YEAR  \\\n",
       "576355  41.752918 -87.621573  POINT (-87.621572939578 41.752917594949)  2021   \n",
       "576356  41.804003 -87.603354  POINT (-87.603354308388 41.804002931352)  2021   \n",
       "\n",
       "       WEEK_DAY_NAME  \n",
       "576355        Monday  \n",
       "576356       Tuesday  "
      ]
     },
     "execution_count": 7,
     "metadata": {},
     "output_type": "execute_result"
    }
   ],
   "source": [
    "#-------------- Convert CRASH_DATE to pandas datetime format\n",
    "#-------------- Add feature fields year and day of week (Monday=0, Sunday=6)\n",
    "\n",
    "crash_df_v2[\"CRASH_DATE\"] = pd.to_datetime(crash_df_v2[\"CRASH_DATE\"])\n",
    "crash_df_v2[\"YEAR\"]       = crash_df_v2[\"CRASH_DATE\"].dt.year\n",
    "crash_df_v2[\"WEEK_DAY_NAME\"]   = crash_df_v2[\"CRASH_DATE\"].dt.day_name()\n",
    "\n",
    "#-------------- Original CRASH_DAY_OF_WEEK field does not align with pandas day of week so drop the field\n",
    "\n",
    "crash_df_v2 = crash_df_v2.drop(columns=[\"CRASH_DAY_OF_WEEK\"])\n",
    "\n",
    "crash_df_v2.tail(2)"
   ]
  },
  {
   "cell_type": "code",
   "execution_count": 8,
   "metadata": {},
   "outputs": [
    {
     "data": {
      "text/plain": [
       "YEAR\n",
       "2018    118947\n",
       "2019    117758\n",
       "2021    108638\n",
       "2020     92104\n",
       "2017     83785\n",
       "2016     44297\n",
       "2015      9828\n",
       "2022       993\n",
       "2014         6\n",
       "2013         1\n",
       "Name: YEAR, dtype: int64"
      ]
     },
     "execution_count": 8,
     "metadata": {},
     "output_type": "execute_result"
    }
   ],
   "source": [
    "#-------------- Check data size over years\n",
    "\n",
    "\"\"\"\n",
    "\n",
    "Since proper data collection started around Oct 2017\n",
    "accoriding to our data source, it is best to narrow analysis from 2018 - present\n",
    "\n",
    "\"\"\"\n",
    "#crash_df_v2[\"YEAR\"].value_counts()\n",
    "crash_df_v2.groupby(\"YEAR\")[\"YEAR\"].count().sort_values(ascending=False)"
   ]
  },
  {
   "cell_type": "code",
   "execution_count": 9,
   "metadata": {},
   "outputs": [
    {
     "data": {
      "text/plain": [
       "2018    118947\n",
       "2019    117758\n",
       "2021    108638\n",
       "2020     92104\n",
       "Name: YEAR, dtype: int64"
      ]
     },
     "execution_count": 9,
     "metadata": {},
     "output_type": "execute_result"
    }
   ],
   "source": [
    "crash_df_v3 = crash_df_v2.copy()\n",
    "\n",
    "crash_df_v3 = crash_df_v3[(crash_df_v3[\"YEAR\"] >= 2018)&(crash_df_v3[\"YEAR\"] < 2022)]\n",
    "crash_df_v3[\"YEAR\"].value_counts()"
   ]
  },
  {
   "cell_type": "code",
   "execution_count": 10,
   "metadata": {},
   "outputs": [
    {
     "name": "stdout",
     "output_type": "stream",
     "text": [
      "CRASH_RECORD_ID               0\n",
      "CRASH_DATE                    0\n",
      "POSTED_SPEED_LIMIT            0\n",
      "WEATHER_CONDITION             0\n",
      "ROADWAY_SURFACE_COND          0\n",
      "ROAD_DEFECT                   0\n",
      "CRASH_TYPE                    0\n",
      "NUM_UNITS                     0\n",
      "INJURIES_TOTAL              965\n",
      "INJURIES_FATAL              965\n",
      "INJURIES_INCAPACITATING     965\n",
      "CRASH_HOUR                    0\n",
      "CRASH_MONTH                   0\n",
      "LATITUDE                   2819\n",
      "LONGITUDE                  2819\n",
      "LOCATION                   2819\n",
      "YEAR                          0\n",
      "WEEK_DAY_NAME                 0\n",
      "dtype: int64\n"
     ]
    },
    {
     "data": {
      "text/plain": [
       "(437447, 18)"
      ]
     },
     "execution_count": 10,
     "metadata": {},
     "output_type": "execute_result"
    }
   ],
   "source": [
    "#-------------- Check For Null/Missing Values\n",
    "print(crash_df_v3.isnull().sum())\n",
    "crash_df_v3.shape"
   ]
  },
  {
   "cell_type": "code",
   "execution_count": 11,
   "metadata": {},
   "outputs": [
    {
     "name": "stdout",
     "output_type": "stream",
     "text": [
      "INJURIES_TOTAL   False  True \n",
      "LOCATION                     \n",
      "False           433670    958\n",
      "True              2812      7\n",
      "\n",
      "437447\n",
      "99.13658111725535\n"
     ]
    }
   ],
   "source": [
    "\"\"\"\n",
    "\n",
    "Only 7 Records where Location and total injuries reported both holding null values\n",
    "\n",
    "INJURIES_TOTAL holds 943 total missing values as reported above\n",
    "LOCATION holds 2,758 missing values as reported above\n",
    "\n",
    "428,394 records where both INJURIES_TOTAL & LOCATION without any missing values\n",
    "\n",
    "99.14% of records of crash_df_v3 without null values in both Location (lat,log) and injuries fields\n",
    "\"\"\"\n",
    "\n",
    "df1 = crash_df_v3.isna()\n",
    "df2 = pd.crosstab(df1.LOCATION, df1.INJURIES_TOTAL)\n",
    "print (df2)\n",
    "\n",
    "print(\"\")\n",
    "print(crash_df_v3.shape[0])\n",
    "\n",
    "print((df2[0][0]/(crash_df_v3.shape[0]))*100)\n"
   ]
  },
  {
   "cell_type": "code",
   "execution_count": 12,
   "metadata": {},
   "outputs": [
    {
     "name": "stdout",
     "output_type": "stream",
     "text": [
      "0.865019076596707\n"
     ]
    }
   ],
   "source": [
    "#-------------- There are 2,765 records with missing location (lat/log) values\n",
    "#-------------- There are 950 records with missing total/fatal/incapacitatin injuries values\n",
    "#-------------- Check percentage of missing location & injuries value relative to all available date\n",
    "\n",
    "location_null = (1 - (crash_df_v3[\"LOCATION\"].value_counts().sum()/crash_df_v3.shape[0]))*100\n",
    "injuries_null = (1 - (crash_df_v3[\"INJURIES_TOTAL\"].value_counts().sum()/crash_df_v3.shape[0]))*100\n",
    "\n",
    "missing_total_pct = location_null + injuries_null\n",
    "\n",
    "print(missing_total_pct)\n",
    "\n",
    "\n",
    "#-------------- Less than 1 percent of data have missing value under crash_df_v3 \n",
    "#-------------- It is statistically insignificant to drop those missing record "
   ]
  },
  {
   "cell_type": "code",
   "execution_count": 13,
   "metadata": {},
   "outputs": [
    {
     "name": "stdout",
     "output_type": "stream",
     "text": [
      "CRASH_RECORD_ID            0\n",
      "CRASH_DATE                 0\n",
      "POSTED_SPEED_LIMIT         0\n",
      "WEATHER_CONDITION          0\n",
      "ROADWAY_SURFACE_COND       0\n",
      "ROAD_DEFECT                0\n",
      "CRASH_TYPE                 0\n",
      "NUM_UNITS                  0\n",
      "INJURIES_TOTAL             0\n",
      "INJURIES_FATAL             0\n",
      "INJURIES_INCAPACITATING    0\n",
      "CRASH_HOUR                 0\n",
      "CRASH_MONTH                0\n",
      "LATITUDE                   0\n",
      "LONGITUDE                  0\n",
      "LOCATION                   0\n",
      "YEAR                       0\n",
      "WEEK_DAY_NAME              0\n",
      "dtype: int64\n",
      "\n",
      "(437447, 18)\n",
      "(433670, 18)\n"
     ]
    }
   ],
   "source": [
    "#-------------- Drop data with missing location records\n",
    "\n",
    "crash_df_v4 = crash_df_v3.copy()\n",
    "\n",
    "crash_df_v4 = crash_df_v4.dropna(subset=[\"LOCATION\",\"INJURIES_TOTAL\"])\n",
    "\n",
    "print(crash_df_v4.isnull().sum())\n",
    "print(\"\")\n",
    "print(crash_df_v3.shape)\n",
    "print(crash_df_v4.shape)"
   ]
  },
  {
   "cell_type": "code",
   "execution_count": 14,
   "metadata": {},
   "outputs": [
    {
     "data": {
      "text/html": [
       "<div>\n",
       "<style scoped>\n",
       "    .dataframe tbody tr th:only-of-type {\n",
       "        vertical-align: middle;\n",
       "    }\n",
       "\n",
       "    .dataframe tbody tr th {\n",
       "        vertical-align: top;\n",
       "    }\n",
       "\n",
       "    .dataframe thead th {\n",
       "        text-align: right;\n",
       "    }\n",
       "</style>\n",
       "<table border=\"1\" class=\"dataframe\">\n",
       "  <thead>\n",
       "    <tr style=\"text-align: right;\">\n",
       "      <th></th>\n",
       "      <th>CRASH_RECORD_ID</th>\n",
       "      <th>CRASH_DATE</th>\n",
       "      <th>POSTED_SPEED_LIMIT</th>\n",
       "      <th>WEATHER_CONDITION</th>\n",
       "      <th>ROADWAY_SURFACE_COND</th>\n",
       "      <th>ROAD_DEFECT</th>\n",
       "      <th>CRASH_TYPE</th>\n",
       "      <th>NUM_UNITS</th>\n",
       "      <th>INJURIES_TOTAL</th>\n",
       "      <th>INJURIES_FATAL</th>\n",
       "      <th>INJURIES_INCAPACITATING</th>\n",
       "      <th>CRASH_HOUR</th>\n",
       "      <th>CRASH_MONTH</th>\n",
       "      <th>LATITUDE</th>\n",
       "      <th>LONGITUDE</th>\n",
       "      <th>LOCATION</th>\n",
       "      <th>YEAR</th>\n",
       "      <th>WEEK_DAY_NAME</th>\n",
       "    </tr>\n",
       "  </thead>\n",
       "  <tbody>\n",
       "    <tr>\n",
       "      <th>0</th>\n",
       "      <td>4fd0a3e0897b3335b94cd8d5b2d2b350eb691add56c62d...</td>\n",
       "      <td>2019-07-10 17:56:00</td>\n",
       "      <td>35</td>\n",
       "      <td>CLEAR</td>\n",
       "      <td>DRY</td>\n",
       "      <td>NO DEFECTS</td>\n",
       "      <td>NO INJURY / DRIVE AWAY</td>\n",
       "      <td>2.0</td>\n",
       "      <td>0.0</td>\n",
       "      <td>0.0</td>\n",
       "      <td>0.0</td>\n",
       "      <td>17</td>\n",
       "      <td>7</td>\n",
       "      <td>41.919664</td>\n",
       "      <td>-87.773288</td>\n",
       "      <td>POINT (-87.773287883007 41.919663832993)</td>\n",
       "      <td>2019</td>\n",
       "      <td>Wednesday</td>\n",
       "    </tr>\n",
       "    <tr>\n",
       "      <th>2</th>\n",
       "      <td>ee9283eff3a55ac50ee58f3d9528ce1d689b1c4180b4c4...</td>\n",
       "      <td>2020-07-10 10:25:00</td>\n",
       "      <td>30</td>\n",
       "      <td>CLEAR</td>\n",
       "      <td>DRY</td>\n",
       "      <td>NO DEFECTS</td>\n",
       "      <td>NO INJURY / DRIVE AWAY</td>\n",
       "      <td>3.0</td>\n",
       "      <td>0.0</td>\n",
       "      <td>0.0</td>\n",
       "      <td>0.0</td>\n",
       "      <td>10</td>\n",
       "      <td>7</td>\n",
       "      <td>41.773456</td>\n",
       "      <td>-87.585022</td>\n",
       "      <td>POINT (-87.585022352022 41.773455972008)</td>\n",
       "      <td>2020</td>\n",
       "      <td>Friday</td>\n",
       "    </tr>\n",
       "  </tbody>\n",
       "</table>\n",
       "</div>"
      ],
      "text/plain": [
       "                                     CRASH_RECORD_ID          CRASH_DATE  \\\n",
       "0  4fd0a3e0897b3335b94cd8d5b2d2b350eb691add56c62d... 2019-07-10 17:56:00   \n",
       "2  ee9283eff3a55ac50ee58f3d9528ce1d689b1c4180b4c4... 2020-07-10 10:25:00   \n",
       "\n",
       "   POSTED_SPEED_LIMIT WEATHER_CONDITION ROADWAY_SURFACE_COND ROAD_DEFECT  \\\n",
       "0                  35             CLEAR                  DRY  NO DEFECTS   \n",
       "2                  30             CLEAR                  DRY  NO DEFECTS   \n",
       "\n",
       "               CRASH_TYPE  NUM_UNITS  INJURIES_TOTAL  INJURIES_FATAL  \\\n",
       "0  NO INJURY / DRIVE AWAY        2.0             0.0             0.0   \n",
       "2  NO INJURY / DRIVE AWAY        3.0             0.0             0.0   \n",
       "\n",
       "   INJURIES_INCAPACITATING  CRASH_HOUR  CRASH_MONTH   LATITUDE  LONGITUDE  \\\n",
       "0                      0.0          17            7  41.919664 -87.773288   \n",
       "2                      0.0          10            7  41.773456 -87.585022   \n",
       "\n",
       "                                   LOCATION  YEAR WEEK_DAY_NAME  \n",
       "0  POINT (-87.773287883007 41.919663832993)  2019     Wednesday  \n",
       "2  POINT (-87.585022352022 41.773455972008)  2020        Friday  "
      ]
     },
     "execution_count": 14,
     "metadata": {},
     "output_type": "execute_result"
    }
   ],
   "source": [
    "#-------------- Check one field at a time to evaluate need to restructure field\n",
    "\n",
    "crash_df_v4.head(2)"
   ]
  },
  {
   "cell_type": "code",
   "execution_count": 15,
   "metadata": {},
   "outputs": [
    {
     "data": {
      "text/plain": [
       "CLEAR                       343583\n",
       "RAIN                         37099\n",
       "UNKNOWN                      19395\n",
       "SNOW                         16745\n",
       "CLOUDY/OVERCAST              13223\n",
       "OTHER                         1378\n",
       "FREEZING RAIN/DRIZZLE          713\n",
       "FOG/SMOKE/HAZE                 709\n",
       "SLEET/HAIL                     590\n",
       "BLOWING SNOW                   164\n",
       "SEVERE CROSS WIND GATE          69\n",
       "BLOWING SAND, SOIL, DIRT         2\n",
       "Name: WEATHER_CONDITION, dtype: int64"
      ]
     },
     "execution_count": 15,
     "metadata": {},
     "output_type": "execute_result"
    }
   ],
   "source": [
    "\"\"\"\n",
    "For meaningful EDA on weather condition impact on chicago crash outcomes\n",
    "it is best to recategorize the field based on value relations\n",
    "\n",
    "\"\"\"\n",
    "crash_df_v4[\"WEATHER_CONDITION\"].value_counts()"
   ]
  },
  {
   "cell_type": "code",
   "execution_count": 16,
   "metadata": {},
   "outputs": [
    {
     "data": {
      "text/plain": [
       "CLEAR                   343583\n",
       "RAIN_SNOW_CLOUDY_etc     69314\n",
       "UKNOWN_OTHER             20773\n",
       "Name: WEATHER_CONDITION, dtype: int64"
      ]
     },
     "execution_count": 16,
     "metadata": {},
     "output_type": "execute_result"
    }
   ],
   "source": [
    "weather_dict = {\n",
    "    \"BLOWING SAND, SOIL, DIRT\" : \"RAIN_SNOW_CLOUDY_etc\",\n",
    "    \"BLOWING SNOW\"             : \"RAIN_SNOW_CLOUDY_etc\",\n",
    "    \"CLEAR\"                    : \"CLEAR\",\n",
    "    \"CLOUDY/OVERCAST\"          : \"RAIN_SNOW_CLOUDY_etc\",\n",
    "    \"FOG/SMOKE/HAZE\"           : \"RAIN_SNOW_CLOUDY_etc\",\n",
    "    \"FREEZING RAIN/DRIZZLE\"    : \"RAIN_SNOW_CLOUDY_etc\",\n",
    "    \"OTHER\"                    : \"UKNOWN_OTHER\",\n",
    "    \"RAIN\"                     : \"RAIN_SNOW_CLOUDY_etc\",\n",
    "    \"SEVERE CROSS WIND GATE\"   : \"RAIN_SNOW_CLOUDY_etc\",\n",
    "    \"SLEET/HAIL\"               : \"RAIN_SNOW_CLOUDY_etc\",\n",
    "    \"SNOW\"                     : \"RAIN_SNOW_CLOUDY_etc\",\n",
    "    \"UNKNOWN\"                  : \"UKNOWN_OTHER\"\n",
    "    \n",
    "}\n",
    "\n",
    "crash_df_v4[\"WEATHER_CONDITION\"] = crash_df_v4[\"WEATHER_CONDITION\"].replace(weather_dict)\n",
    "crash_df_v4[\"WEATHER_CONDITION\"].value_counts()"
   ]
  },
  {
   "cell_type": "code",
   "execution_count": 17,
   "metadata": {},
   "outputs": [
    {
     "data": {
      "text/plain": [
       "DRY                324291\n",
       "WET                 58362\n",
       "UNKNOWN             29927\n",
       "SNOW OR SLUSH       16753\n",
       "ICE                  3070\n",
       "OTHER                1090\n",
       "SAND, MUD, DIRT       177\n",
       "Name: ROADWAY_SURFACE_COND, dtype: int64"
      ]
     },
     "execution_count": 17,
     "metadata": {},
     "output_type": "execute_result"
    }
   ],
   "source": [
    "\"\"\"\n",
    "For meaningful EDA on road surface condition impact on chicago crash outcomes\n",
    "it is best to recategorize the field based on value relations\n",
    "\n",
    "\"\"\"\n",
    "crash_df_v4[\"ROADWAY_SURFACE_COND\"].value_counts()"
   ]
  },
  {
   "cell_type": "code",
   "execution_count": 18,
   "metadata": {},
   "outputs": [
    {
     "data": {
      "text/plain": [
       "DRY                 324291\n",
       "WET_SNOW_ICE_etc     78362\n",
       "UNKNOWN_OTHER        31017\n",
       "Name: ROADWAY_SURFACE_COND, dtype: int64"
      ]
     },
     "execution_count": 18,
     "metadata": {},
     "output_type": "execute_result"
    }
   ],
   "source": [
    "road_dict = {\n",
    "    \"DRY\"             : \"DRY\",\n",
    "    \"WET\"             : \"WET_SNOW_ICE_etc\",\n",
    "    \"UNKNOWN\"         : \"UNKNOWN_OTHER\",\n",
    "    \"SNOW OR SLUSH\"   : \"WET_SNOW_ICE_etc\",\n",
    "    \"ICE\"             : \"WET_SNOW_ICE_etc\",\n",
    "    \"OTHER\"           : \"UNKNOWN_OTHER\",\n",
    "    \"SAND, MUD, DIRT\" : \"WET_SNOW_ICE_etc\"\n",
    "    \n",
    "}\n",
    "\n",
    "crash_df_v4[\"ROADWAY_SURFACE_COND\"] = crash_df_v4[\"ROADWAY_SURFACE_COND\"].replace(road_dict)\n",
    "crash_df_v4[\"ROADWAY_SURFACE_COND\"].value_counts()"
   ]
  },
  {
   "cell_type": "code",
   "execution_count": 19,
   "metadata": {},
   "outputs": [
    {
     "data": {
      "text/plain": [
       "NO DEFECTS           358301\n",
       "UNKNOWN               66467\n",
       "RUT, HOLES             3550\n",
       "OTHER                  2437\n",
       "WORN SURFACE           1678\n",
       "SHOULDER DEFECT         886\n",
       "DEBRIS ON ROADWAY       351\n",
       "Name: ROAD_DEFECT, dtype: int64"
      ]
     },
     "execution_count": 19,
     "metadata": {},
     "output_type": "execute_result"
    }
   ],
   "source": [
    "\"\"\"\n",
    "For meaningful EDA on road defect impact on chicago crash outcomes\n",
    "it is best to recategorize the field based on value relations\n",
    "\n",
    "\"\"\"\n",
    "crash_df_v4[\"ROAD_DEFECT\"].value_counts()"
   ]
  },
  {
   "cell_type": "code",
   "execution_count": 20,
   "metadata": {},
   "outputs": [
    {
     "data": {
      "text/plain": [
       "NO_DEFECTS               358301\n",
       "UNKNOWN_OTHER             68904\n",
       "HOLES_DEBRIS_WORN_etc      6465\n",
       "Name: ROAD_DEFECT, dtype: int64"
      ]
     },
     "execution_count": 20,
     "metadata": {},
     "output_type": "execute_result"
    }
   ],
   "source": [
    "road_defect_dict = {\n",
    "    \"NO DEFECTS\"        : \"NO_DEFECTS\",\n",
    "    \"UNKNOWN\"           : \"UNKNOWN_OTHER\",\n",
    "    \"RUT, HOLES\"        : \"HOLES_DEBRIS_WORN_etc\",\n",
    "    \"OTHER\"             : \"UNKNOWN_OTHER\",\n",
    "    \"WORN SURFACE\"      : \"HOLES_DEBRIS_WORN_etc\",\n",
    "    \"SHOULDER DEFECT\"   : \"HOLES_DEBRIS_WORN_etc\",\n",
    "    \"DEBRIS ON ROADWAY\" : \"HOLES_DEBRIS_WORN_etc\"\n",
    "    \n",
    "}\n",
    "\n",
    "crash_df_v4[\"ROAD_DEFECT\"] = crash_df_v4[\"ROAD_DEFECT\"].replace(road_defect_dict)\n",
    "crash_df_v4[\"ROAD_DEFECT\"].value_counts()"
   ]
  },
  {
   "cell_type": "code",
   "execution_count": 21,
   "metadata": {},
   "outputs": [
    {
     "data": {
      "text/plain": [
       "0.0     370667\n",
       "1.0      47520\n",
       "2.0      10474\n",
       "3.0       3190\n",
       "4.0       1143\n",
       "5.0        401\n",
       "6.0        159\n",
       "7.0         62\n",
       "8.0         18\n",
       "9.0         14\n",
       "10.0         7\n",
       "15.0         4\n",
       "21.0         3\n",
       "11.0         3\n",
       "12.0         2\n",
       "13.0         1\n",
       "16.0         1\n",
       "19.0         1\n",
       "Name: INJURIES_TOTAL, dtype: int64"
      ]
     },
     "execution_count": 21,
     "metadata": {},
     "output_type": "execute_result"
    }
   ],
   "source": [
    "\"\"\"\n",
    "Check how may many injuries per each crash...\n",
    "\n",
    "\"\"\"\n",
    "\n",
    "crash_df_v4[\"INJURIES_TOTAL\"].value_counts()"
   ]
  },
  {
   "cell_type": "code",
   "execution_count": 22,
   "metadata": {},
   "outputs": [
    {
     "data": {
      "text/plain": [
       "99.93658772799594"
      ]
     },
     "execution_count": 22,
     "metadata": {},
     "output_type": "execute_result"
    }
   ],
   "source": [
    "\"\"\"\n",
    "It appears that 99.94% percent of the crashes involved sustained 5 injuries or less,\n",
    "it is best to exclude crashes with more than 5 injuries since it will be statistically insignificant \n",
    "in addition we'll later join with crash people data which will eliminate unneccessary join records down the line\n",
    "\n",
    "\"\"\"\n",
    "(1 - (crash_df_v4[crash_df_v4[\"INJURIES_TOTAL\"]>5][\"INJURIES_TOTAL\"].value_counts().sum()/crash_df_v4.shape[0]))*100"
   ]
  },
  {
   "cell_type": "code",
   "execution_count": 23,
   "metadata": {
    "scrolled": true
   },
   "outputs": [
    {
     "data": {
      "text/plain": [
       "0.0    425563\n",
       "1.0      7124\n",
       "2.0       737\n",
       "3.0       172\n",
       "4.0        56\n",
       "5.0        15\n",
       "6.0         2\n",
       "7.0         1\n",
       "Name: INJURIES_INCAPACITATING, dtype: int64"
      ]
     },
     "execution_count": 23,
     "metadata": {},
     "output_type": "execute_result"
    }
   ],
   "source": [
    "crash_df_v4[\"INJURIES_INCAPACITATING\"].value_counts()"
   ]
  },
  {
   "cell_type": "code",
   "execution_count": 24,
   "metadata": {},
   "outputs": [
    {
     "data": {
      "text/plain": [
       "99.99930822975995"
      ]
     },
     "execution_count": 24,
     "metadata": {},
     "output_type": "execute_result"
    }
   ],
   "source": [
    "#-------------- Similar Outcomes holds for incapacitating injuries majority being 5 or less per crash (99.99%)\n",
    "(1 - (crash_df_v4[crash_df_v4[\"INJURIES_INCAPACITATING\"]>5][\"INJURIES_INCAPACITATING\"].value_counts().sum()/crash_df_v4.shape[0]))*100"
   ]
  },
  {
   "cell_type": "code",
   "execution_count": 25,
   "metadata": {},
   "outputs": [],
   "source": [
    "#-------------- Drop total injuries and incapacitating injuries more than 5 per crash\n",
    "\n",
    "crash_df_v5 = crash_df_v4.copy()\n",
    "\n",
    "crash_df_v5 = crash_df_v5[crash_df_v5[\"INJURIES_TOTAL\"]<=5]\n",
    "crash_df_v5 = crash_df_v5[crash_df_v5[\"INJURIES_INCAPACITATING\"]<=5]"
   ]
  },
  {
   "cell_type": "code",
   "execution_count": 26,
   "metadata": {},
   "outputs": [],
   "source": [
    "#-------------- Check data types and evaluate need to change data type for a given field\n"
   ]
  },
  {
   "cell_type": "code",
   "execution_count": 27,
   "metadata": {},
   "outputs": [
    {
     "name": "stdout",
     "output_type": "stream",
     "text": [
      "\n",
      "(433670, 18)\n",
      "(433395, 18)\n"
     ]
    }
   ],
   "source": [
    "crash_df_v5.dtypes\n",
    "\n",
    "print(\"\")\n",
    "print(crash_df_v4.shape)\n",
    "print(crash_df_v5.shape)"
   ]
  },
  {
   "cell_type": "code",
   "execution_count": 28,
   "metadata": {},
   "outputs": [],
   "source": [
    "#-------------- Convert some of the columns data type to int for improved EDA later on\n",
    "cols = [\"INJURIES_TOTAL\", \"INJURIES_FATAL\", \"INJURIES_INCAPACITATING\"]\n",
    "\n",
    "for x in cols:\n",
    "    crash_df_v5[x] = crash_df_v5[x].astype(\"int\")\n"
   ]
  },
  {
   "cell_type": "code",
   "execution_count": 29,
   "metadata": {},
   "outputs": [
    {
     "data": {
      "text/plain": [
       "CRASH_RECORD_ID                    object\n",
       "CRASH_DATE                 datetime64[ns]\n",
       "POSTED_SPEED_LIMIT                  int64\n",
       "WEATHER_CONDITION                  object\n",
       "ROADWAY_SURFACE_COND               object\n",
       "ROAD_DEFECT                        object\n",
       "CRASH_TYPE                         object\n",
       "NUM_UNITS                         float64\n",
       "INJURIES_TOTAL                      int32\n",
       "INJURIES_FATAL                      int32\n",
       "INJURIES_INCAPACITATING             int32\n",
       "CRASH_HOUR                          int64\n",
       "CRASH_MONTH                         int64\n",
       "LATITUDE                          float64\n",
       "LONGITUDE                         float64\n",
       "LOCATION                           object\n",
       "YEAR                                int64\n",
       "WEEK_DAY_NAME                      object\n",
       "dtype: object"
      ]
     },
     "execution_count": 29,
     "metadata": {},
     "output_type": "execute_result"
    }
   ],
   "source": [
    "crash_df_v5.dtypes"
   ]
  },
  {
   "cell_type": "code",
   "execution_count": 30,
   "metadata": {},
   "outputs": [
    {
     "name": "stdout",
     "output_type": "stream",
     "text": [
      "0\n",
      "0\n"
     ]
    }
   ],
   "source": [
    "#-------------- crash_df_v5[crash_df_v5.duplicated([\"CRASH_RECORD_ID\"], keep=False)]\n",
    "\n",
    "print(crash_df_v5[crash_df_v5[\"CRASH_RECORD_ID\"].duplicated() == True].shape[0])\n",
    "\n",
    "print(crash_df_v5[crash_df_v5[\"CRASH_RECORD_ID\"].duplicated() == True].size)\n",
    "\n",
    "\n",
    "#-------------- CRASH_RECORD_ID holds unique values and no duplicates thus can serve as primary\n",
    "#-------------- We'll use CRASH_RECORD_ID to join with crash people table later on"
   ]
  },
  {
   "cell_type": "code",
   "execution_count": 31,
   "metadata": {},
   "outputs": [],
   "source": [
    "#-------------- Store final result as a csv file\n",
    "crash_df_v5.to_csv(\"chicago_data/chicago_clean_crash_2022.csv\", encoding=\"utf-8\")"
   ]
  },
  {
   "cell_type": "code",
   "execution_count": null,
   "metadata": {},
   "outputs": [],
   "source": []
  },
  {
   "cell_type": "markdown",
   "metadata": {},
   "source": [
    "### Chicago Crash_People Data Cleaning || Feature Engineering || Formatting"
   ]
  },
  {
   "cell_type": "code",
   "execution_count": 32,
   "metadata": {},
   "outputs": [
    {
     "name": "stderr",
     "output_type": "stream",
     "text": [
      "C:\\ProgramData\\Anaconda3\\lib\\site-packages\\IPython\\core\\interactiveshell.py:3146: DtypeWarning: Columns (12,13,20,21,22,23,24,25,26,27,29) have mixed types.Specify dtype option on import or set low_memory=False.\n",
      "  has_raised = await self.run_ast_nodes(code_ast.body, cell_name,\n"
     ]
    }
   ],
   "source": [
    "#-------------- Read Chicago Crash People Data\n",
    "\n",
    "crash_people_df = pd.read_csv(\"chicago_data/traffic_crashes_people_2022.csv\")"
   ]
  },
  {
   "cell_type": "code",
   "execution_count": 33,
   "metadata": {},
   "outputs": [
    {
     "data": {
      "text/plain": [
       "(1273696, 30)"
      ]
     },
     "execution_count": 33,
     "metadata": {},
     "output_type": "execute_result"
    }
   ],
   "source": [
    "#-------------- Check Dataset Shape\n",
    "\n",
    "crash_people_df.shape"
   ]
  },
  {
   "cell_type": "code",
   "execution_count": 34,
   "metadata": {},
   "outputs": [
    {
     "data": {
      "text/html": [
       "<div>\n",
       "<style scoped>\n",
       "    .dataframe tbody tr th:only-of-type {\n",
       "        vertical-align: middle;\n",
       "    }\n",
       "\n",
       "    .dataframe tbody tr th {\n",
       "        vertical-align: top;\n",
       "    }\n",
       "\n",
       "    .dataframe thead th {\n",
       "        text-align: right;\n",
       "    }\n",
       "</style>\n",
       "<table border=\"1\" class=\"dataframe\">\n",
       "  <thead>\n",
       "    <tr style=\"text-align: right;\">\n",
       "      <th></th>\n",
       "      <th>PERSON_ID</th>\n",
       "      <th>PERSON_TYPE</th>\n",
       "      <th>CRASH_RECORD_ID</th>\n",
       "      <th>RD_NO</th>\n",
       "      <th>VEHICLE_ID</th>\n",
       "      <th>CRASH_DATE</th>\n",
       "      <th>SEAT_NO</th>\n",
       "      <th>CITY</th>\n",
       "      <th>STATE</th>\n",
       "      <th>ZIPCODE</th>\n",
       "      <th>...</th>\n",
       "      <th>EMS_RUN_NO</th>\n",
       "      <th>DRIVER_ACTION</th>\n",
       "      <th>DRIVER_VISION</th>\n",
       "      <th>PHYSICAL_CONDITION</th>\n",
       "      <th>PEDPEDAL_ACTION</th>\n",
       "      <th>PEDPEDAL_VISIBILITY</th>\n",
       "      <th>PEDPEDAL_LOCATION</th>\n",
       "      <th>BAC_RESULT</th>\n",
       "      <th>BAC_RESULT VALUE</th>\n",
       "      <th>CELL_PHONE_USE</th>\n",
       "    </tr>\n",
       "  </thead>\n",
       "  <tbody>\n",
       "    <tr>\n",
       "      <th>0</th>\n",
       "      <td>O749947</td>\n",
       "      <td>DRIVER</td>\n",
       "      <td>81dc0de2ed92aa62baccab641fa377be7feb1cc47e6554...</td>\n",
       "      <td>JC451435</td>\n",
       "      <td>834816.0</td>\n",
       "      <td>09/28/2019 03:30:00 AM</td>\n",
       "      <td>NaN</td>\n",
       "      <td>CHICAGO</td>\n",
       "      <td>IL</td>\n",
       "      <td>60651</td>\n",
       "      <td>...</td>\n",
       "      <td>NaN</td>\n",
       "      <td>UNKNOWN</td>\n",
       "      <td>UNKNOWN</td>\n",
       "      <td>UNKNOWN</td>\n",
       "      <td>NaN</td>\n",
       "      <td>NaN</td>\n",
       "      <td>NaN</td>\n",
       "      <td>TEST NOT OFFERED</td>\n",
       "      <td>NaN</td>\n",
       "      <td>NaN</td>\n",
       "    </tr>\n",
       "    <tr>\n",
       "      <th>1</th>\n",
       "      <td>O871921</td>\n",
       "      <td>DRIVER</td>\n",
       "      <td>af84fb5c8d996fcd3aefd36593c3a02e6e7509eeb27568...</td>\n",
       "      <td>JD208731</td>\n",
       "      <td>827212.0</td>\n",
       "      <td>04/13/2020 10:50:00 PM</td>\n",
       "      <td>NaN</td>\n",
       "      <td>CHICAGO</td>\n",
       "      <td>IL</td>\n",
       "      <td>60620</td>\n",
       "      <td>...</td>\n",
       "      <td>NaN</td>\n",
       "      <td>NONE</td>\n",
       "      <td>NOT OBSCURED</td>\n",
       "      <td>NORMAL</td>\n",
       "      <td>NaN</td>\n",
       "      <td>NaN</td>\n",
       "      <td>NaN</td>\n",
       "      <td>TEST NOT OFFERED</td>\n",
       "      <td>NaN</td>\n",
       "      <td>NaN</td>\n",
       "    </tr>\n",
       "  </tbody>\n",
       "</table>\n",
       "<p>2 rows × 30 columns</p>\n",
       "</div>"
      ],
      "text/plain": [
       "  PERSON_ID PERSON_TYPE                                    CRASH_RECORD_ID  \\\n",
       "0   O749947      DRIVER  81dc0de2ed92aa62baccab641fa377be7feb1cc47e6554...   \n",
       "1   O871921      DRIVER  af84fb5c8d996fcd3aefd36593c3a02e6e7509eeb27568...   \n",
       "\n",
       "      RD_NO  VEHICLE_ID              CRASH_DATE  SEAT_NO     CITY STATE  \\\n",
       "0  JC451435    834816.0  09/28/2019 03:30:00 AM      NaN  CHICAGO    IL   \n",
       "1  JD208731    827212.0  04/13/2020 10:50:00 PM      NaN  CHICAGO    IL   \n",
       "\n",
       "  ZIPCODE  ... EMS_RUN_NO  DRIVER_ACTION DRIVER_VISION PHYSICAL_CONDITION  \\\n",
       "0   60651  ...        NaN        UNKNOWN       UNKNOWN            UNKNOWN   \n",
       "1   60620  ...        NaN           NONE  NOT OBSCURED             NORMAL   \n",
       "\n",
       "  PEDPEDAL_ACTION PEDPEDAL_VISIBILITY PEDPEDAL_LOCATION        BAC_RESULT  \\\n",
       "0             NaN                 NaN               NaN  TEST NOT OFFERED   \n",
       "1             NaN                 NaN               NaN  TEST NOT OFFERED   \n",
       "\n",
       "  BAC_RESULT VALUE CELL_PHONE_USE  \n",
       "0              NaN            NaN  \n",
       "1              NaN            NaN  \n",
       "\n",
       "[2 rows x 30 columns]"
      ]
     },
     "execution_count": 34,
     "metadata": {},
     "output_type": "execute_result"
    }
   ],
   "source": [
    "#-------------- Check Columns and Dataset\n",
    "\n",
    "#print(crash_people_df.columns)\n",
    "crash_people_df.head(2)"
   ]
  },
  {
   "cell_type": "code",
   "execution_count": 35,
   "metadata": {
    "scrolled": true
   },
   "outputs": [
    {
     "data": {
      "text/html": [
       "<div>\n",
       "<style scoped>\n",
       "    .dataframe tbody tr th:only-of-type {\n",
       "        vertical-align: middle;\n",
       "    }\n",
       "\n",
       "    .dataframe tbody tr th {\n",
       "        vertical-align: top;\n",
       "    }\n",
       "\n",
       "    .dataframe thead th {\n",
       "        text-align: right;\n",
       "    }\n",
       "</style>\n",
       "<table border=\"1\" class=\"dataframe\">\n",
       "  <thead>\n",
       "    <tr style=\"text-align: right;\">\n",
       "      <th></th>\n",
       "      <th>PERSON_ID</th>\n",
       "      <th>PERSON_TYPE</th>\n",
       "      <th>CRASH_RECORD_ID</th>\n",
       "      <th>CRASH_DATE</th>\n",
       "      <th>SEX</th>\n",
       "      <th>AGE</th>\n",
       "      <th>INJURY_CLASSIFICATION</th>\n",
       "      <th>DRIVERS_LICENSE_STATE</th>\n",
       "      <th>CITY</th>\n",
       "      <th>STATE</th>\n",
       "      <th>ZIPCODE</th>\n",
       "    </tr>\n",
       "  </thead>\n",
       "  <tbody>\n",
       "    <tr>\n",
       "      <th>0</th>\n",
       "      <td>O749947</td>\n",
       "      <td>DRIVER</td>\n",
       "      <td>81dc0de2ed92aa62baccab641fa377be7feb1cc47e6554...</td>\n",
       "      <td>09/28/2019 03:30:00 AM</td>\n",
       "      <td>M</td>\n",
       "      <td>25.0</td>\n",
       "      <td>NO INDICATION OF INJURY</td>\n",
       "      <td>IL</td>\n",
       "      <td>CHICAGO</td>\n",
       "      <td>IL</td>\n",
       "      <td>60651</td>\n",
       "    </tr>\n",
       "    <tr>\n",
       "      <th>1</th>\n",
       "      <td>O871921</td>\n",
       "      <td>DRIVER</td>\n",
       "      <td>af84fb5c8d996fcd3aefd36593c3a02e6e7509eeb27568...</td>\n",
       "      <td>04/13/2020 10:50:00 PM</td>\n",
       "      <td>M</td>\n",
       "      <td>37.0</td>\n",
       "      <td>NO INDICATION OF INJURY</td>\n",
       "      <td>IL</td>\n",
       "      <td>CHICAGO</td>\n",
       "      <td>IL</td>\n",
       "      <td>60620</td>\n",
       "    </tr>\n",
       "  </tbody>\n",
       "</table>\n",
       "</div>"
      ],
      "text/plain": [
       "  PERSON_ID PERSON_TYPE                                    CRASH_RECORD_ID  \\\n",
       "0   O749947      DRIVER  81dc0de2ed92aa62baccab641fa377be7feb1cc47e6554...   \n",
       "1   O871921      DRIVER  af84fb5c8d996fcd3aefd36593c3a02e6e7509eeb27568...   \n",
       "\n",
       "               CRASH_DATE SEX   AGE    INJURY_CLASSIFICATION  \\\n",
       "0  09/28/2019 03:30:00 AM   M  25.0  NO INDICATION OF INJURY   \n",
       "1  04/13/2020 10:50:00 PM   M  37.0  NO INDICATION OF INJURY   \n",
       "\n",
       "  DRIVERS_LICENSE_STATE     CITY STATE ZIPCODE  \n",
       "0                    IL  CHICAGO    IL   60651  \n",
       "1                    IL  CHICAGO    IL   60620  "
      ]
     },
     "execution_count": 35,
     "metadata": {},
     "output_type": "execute_result"
    }
   ],
   "source": [
    "#-------------- Extract All Relevant Fields\n",
    "\n",
    "sub_columns = [\"PERSON_ID\",\"PERSON_TYPE\",\"CRASH_RECORD_ID\",\n",
    "                \"CRASH_DATE\",\"SEX\",\"AGE\",\"INJURY_CLASSIFICATION\",\n",
    "                \"DRIVERS_LICENSE_STATE\",\"CITY\",\"STATE\",\"ZIPCODE\"]\n",
    "crash_people_df_v2 = crash_people_df.copy()\n",
    "crash_people_df_v2 = crash_people_df_v2[sub_columns]\n",
    "crash_people_df_v2.head(2)"
   ]
  },
  {
   "cell_type": "code",
   "execution_count": 36,
   "metadata": {},
   "outputs": [
    {
     "data": {
      "text/plain": [
       "'\\nNo need to rename columns as they are aleady named properly\\nLook into values in columns to evalue restructure (re-categorize/rename)\\nAssess the need to convert data types\\n\\n'"
      ]
     },
     "execution_count": 36,
     "metadata": {},
     "output_type": "execute_result"
    }
   ],
   "source": [
    "\"\"\"\n",
    "No need to rename columns as they are aleady named properly\n",
    "Look into values in columns to evalue restructure (re-categorize/rename)\n",
    "Assess the need to convert data types\n",
    "\n",
    "\"\"\""
   ]
  },
  {
   "cell_type": "code",
   "execution_count": 37,
   "metadata": {},
   "outputs": [
    {
     "data": {
      "text/html": [
       "<div>\n",
       "<style scoped>\n",
       "    .dataframe tbody tr th:only-of-type {\n",
       "        vertical-align: middle;\n",
       "    }\n",
       "\n",
       "    .dataframe tbody tr th {\n",
       "        vertical-align: top;\n",
       "    }\n",
       "\n",
       "    .dataframe thead th {\n",
       "        text-align: right;\n",
       "    }\n",
       "</style>\n",
       "<table border=\"1\" class=\"dataframe\">\n",
       "  <thead>\n",
       "    <tr style=\"text-align: right;\">\n",
       "      <th></th>\n",
       "      <th>PERSON_ID</th>\n",
       "      <th>PERSON_TYPE</th>\n",
       "      <th>CRASH_RECORD_ID</th>\n",
       "      <th>CRASH_DATE</th>\n",
       "      <th>SEX</th>\n",
       "      <th>AGE</th>\n",
       "      <th>INJURY_CLASSIFICATION</th>\n",
       "      <th>DRIVERS_LICENSE_STATE</th>\n",
       "      <th>CITY</th>\n",
       "      <th>STATE</th>\n",
       "      <th>ZIPCODE</th>\n",
       "      <th>YEAR</th>\n",
       "    </tr>\n",
       "  </thead>\n",
       "  <tbody>\n",
       "    <tr>\n",
       "      <th>1273694</th>\n",
       "      <td>P280239</td>\n",
       "      <td>PASSENGER</td>\n",
       "      <td>f4662e1e6bad3a2a197f6990d55ceb30a7d464493e350c...</td>\n",
       "      <td>2021-12-20 19:05:00</td>\n",
       "      <td>M</td>\n",
       "      <td>NaN</td>\n",
       "      <td>NO INDICATION OF INJURY</td>\n",
       "      <td>NaN</td>\n",
       "      <td>NaN</td>\n",
       "      <td>NaN</td>\n",
       "      <td>NaN</td>\n",
       "      <td>2021</td>\n",
       "    </tr>\n",
       "    <tr>\n",
       "      <th>1273695</th>\n",
       "      <td>P280240</td>\n",
       "      <td>PASSENGER</td>\n",
       "      <td>f4662e1e6bad3a2a197f6990d55ceb30a7d464493e350c...</td>\n",
       "      <td>2021-12-20 19:05:00</td>\n",
       "      <td>F</td>\n",
       "      <td>NaN</td>\n",
       "      <td>NO INDICATION OF INJURY</td>\n",
       "      <td>NaN</td>\n",
       "      <td>NaN</td>\n",
       "      <td>NaN</td>\n",
       "      <td>NaN</td>\n",
       "      <td>2021</td>\n",
       "    </tr>\n",
       "  </tbody>\n",
       "</table>\n",
       "</div>"
      ],
      "text/plain": [
       "        PERSON_ID PERSON_TYPE  \\\n",
       "1273694   P280239   PASSENGER   \n",
       "1273695   P280240   PASSENGER   \n",
       "\n",
       "                                           CRASH_RECORD_ID  \\\n",
       "1273694  f4662e1e6bad3a2a197f6990d55ceb30a7d464493e350c...   \n",
       "1273695  f4662e1e6bad3a2a197f6990d55ceb30a7d464493e350c...   \n",
       "\n",
       "                 CRASH_DATE SEX  AGE    INJURY_CLASSIFICATION  \\\n",
       "1273694 2021-12-20 19:05:00   M  NaN  NO INDICATION OF INJURY   \n",
       "1273695 2021-12-20 19:05:00   F  NaN  NO INDICATION OF INJURY   \n",
       "\n",
       "        DRIVERS_LICENSE_STATE CITY STATE ZIPCODE  YEAR  \n",
       "1273694                   NaN  NaN   NaN     NaN  2021  \n",
       "1273695                   NaN  NaN   NaN     NaN  2021  "
      ]
     },
     "execution_count": 37,
     "metadata": {},
     "output_type": "execute_result"
    }
   ],
   "source": [
    "#-------------- Convert CRASH_DATE to pandas datetime format\n",
    "#-------------- No need to retrive day of week since it's present on crash data\n",
    "\n",
    "crash_people_df_v2[\"CRASH_DATE\"] = pd.to_datetime(crash_people_df_v2[\"CRASH_DATE\"])\n",
    "crash_people_df_v2[\"YEAR\"]       = crash_people_df_v2[\"CRASH_DATE\"].dt.year\n",
    "\n",
    "crash_people_df_v2.tail(2)"
   ]
  },
  {
   "cell_type": "code",
   "execution_count": 38,
   "metadata": {},
   "outputs": [
    {
     "data": {
      "text/plain": [
       "2018    265702\n",
       "2019    263985\n",
       "2021    237530\n",
       "2020    202123\n",
       "Name: YEAR, dtype: int64"
      ]
     },
     "execution_count": 38,
     "metadata": {},
     "output_type": "execute_result"
    }
   ],
   "source": [
    "#-------------- We are only interested from 2018-Present, because of data availability\n",
    "\n",
    "crash_people_df_v3 = crash_people_df_v2.copy()\n",
    "\n",
    "crash_people_df_v3 = crash_people_df_v3[(crash_people_df_v3[\"YEAR\"] >= 2018)&(crash_people_df_v3[\"YEAR\"] < 2022)]\n",
    "crash_people_df_v3[\"YEAR\"].value_counts()"
   ]
  },
  {
   "cell_type": "code",
   "execution_count": 39,
   "metadata": {},
   "outputs": [
    {
     "name": "stdout",
     "output_type": "stream",
     "text": [
      "PERSON_ID                     0\n",
      "PERSON_TYPE                   0\n",
      "CRASH_RECORD_ID               0\n",
      "CRASH_DATE                    0\n",
      "SEX                       15325\n",
      "AGE                      276179\n",
      "INJURY_CLASSIFICATION       373\n",
      "DRIVERS_LICENSE_STATE    400701\n",
      "CITY                     259707\n",
      "STATE                    248363\n",
      "ZIPCODE                  321454\n",
      "YEAR                          0\n",
      "dtype: int64\n"
     ]
    },
    {
     "data": {
      "text/plain": [
       "(969340, 12)"
      ]
     },
     "execution_count": 39,
     "metadata": {},
     "output_type": "execute_result"
    }
   ],
   "source": [
    "#-------------- Check For Null/Missing Values\n",
    "print(crash_people_df_v3.isnull().sum())\n",
    "crash_people_df_v3.shape"
   ]
  },
  {
   "cell_type": "code",
   "execution_count": 40,
   "metadata": {},
   "outputs": [
    {
     "name": "stdout",
     "output_type": "stream",
     "text": [
      "PERSON_ID                     0\n",
      "PERSON_TYPE                   0\n",
      "CRASH_RECORD_ID               0\n",
      "CRASH_DATE                    0\n",
      "SEX                       15325\n",
      "AGE                      276179\n",
      "INJURY_CLASSIFICATION       373\n",
      "YEAR                          0\n",
      "dtype: int64\n"
     ]
    }
   ],
   "source": [
    "\"\"\"\n",
    "There are statistically significant number of missing records\n",
    "under DRIVERS_LICENSE_STATE, CITY, STATE, ZIPCODE\n",
    "Let's drop the fields unless a team member finds a good reason to retain these fields\n",
    "\"\"\"\n",
    "drop_fields = [\"DRIVERS_LICENSE_STATE\",\"CITY\",\"STATE\",\"ZIPCODE\"]\n",
    "crash_people_df_v3.drop(drop_fields, axis=1, inplace=True)\n",
    "print(crash_people_df_v3.isnull().sum())\n"
   ]
  },
  {
   "cell_type": "code",
   "execution_count": 41,
   "metadata": {},
   "outputs": [
    {
     "data": {
      "text/plain": [
       "M               504338\n",
       "F               363682\n",
       "X                85995\n",
       "NOT_RECORDED     15325\n",
       "Name: SEX, dtype: int64"
      ]
     },
     "execution_count": 41,
     "metadata": {},
     "output_type": "execute_result"
    }
   ],
   "source": [
    "#-------------- Let's look deeper into SEX and AGE fields and handle missing values\n",
    "#-------------- Replace missing values with Unknown/notReported under SEX column\n",
    "\n",
    "crash_people_df_v4 = crash_people_df_v3.copy()\n",
    "crash_people_df_v4[\"SEX\"] = crash_people_df_v4[\"SEX\"].fillna(\"NOT_RECORDED\")\n",
    "crash_people_df_v4[\"SEX\"].value_counts()"
   ]
  },
  {
   "cell_type": "code",
   "execution_count": 42,
   "metadata": {},
   "outputs": [
    {
     "data": {
      "text/plain": [
       "MALE             504338\n",
       "FEMALE           363682\n",
       "UNKNOWN_OTHER    101320\n",
       "Name: SEX, dtype: int64"
      ]
     },
     "execution_count": 42,
     "metadata": {},
     "output_type": "execute_result"
    }
   ],
   "source": [
    "sex_dict = {\n",
    "    \"M\"            : \"MALE\",\n",
    "    \"F\"            : \"FEMALE\",\n",
    "    \"X\"            : \"UNKNOWN_OTHER\",\n",
    "    \"NOT_RECORDED\" : \"UNKNOWN_OTHER\"\n",
    "    \n",
    "}\n",
    "\n",
    "crash_people_df_v4[\"SEX\"] = crash_people_df_v4[\"SEX\"].replace(sex_dict)\n",
    "crash_people_df_v4[\"SEX\"].value_counts()"
   ]
  },
  {
   "cell_type": "code",
   "execution_count": 43,
   "metadata": {},
   "outputs": [],
   "source": [
    "#-------------- Replace missing values under AGE field with median value\n",
    "\n",
    "age_median = crash_people_df_v4[\"AGE\"].median()\n",
    "age_median\n",
    "\n",
    "crash_people_df_v4[\"AGE\"] = crash_people_df_v4[\"AGE\"].fillna(age_median)"
   ]
  },
  {
   "cell_type": "code",
   "execution_count": 44,
   "metadata": {},
   "outputs": [
    {
     "name": "stdout",
     "output_type": "stream",
     "text": [
      "PERSON_ID                  0\n",
      "PERSON_TYPE                0\n",
      "CRASH_RECORD_ID            0\n",
      "CRASH_DATE                 0\n",
      "SEX                        0\n",
      "AGE                        0\n",
      "INJURY_CLASSIFICATION    373\n",
      "YEAR                       0\n",
      "dtype: int64\n",
      "\n",
      "(969340, 8)\n",
      "(969340, 8)\n"
     ]
    }
   ],
   "source": [
    "print(crash_people_df_v4.isnull().sum())\n",
    "print(\"\")\n",
    "print(crash_people_df_v3.shape)\n",
    "print(crash_people_df_v4.shape)\n",
    "\n",
    "#-------------- Successfully handled missing value and maintained data size from version3"
   ]
  },
  {
   "cell_type": "code",
   "execution_count": 45,
   "metadata": {},
   "outputs": [
    {
     "data": {
      "text/plain": [
       "PERSON_ID                        object\n",
       "PERSON_TYPE                      object\n",
       "CRASH_RECORD_ID                  object\n",
       "CRASH_DATE               datetime64[ns]\n",
       "SEX                              object\n",
       "AGE                             float64\n",
       "INJURY_CLASSIFICATION            object\n",
       "YEAR                              int64\n",
       "dtype: object"
      ]
     },
     "execution_count": 45,
     "metadata": {},
     "output_type": "execute_result"
    }
   ],
   "source": [
    "#-------------- Check data types and evaluate need to change data type for a given field\n",
    "\n",
    "crash_people_df_v4.dtypes"
   ]
  },
  {
   "cell_type": "code",
   "execution_count": 46,
   "metadata": {},
   "outputs": [],
   "source": [
    "#-------------- Convert Age datatype from float to int\n",
    "crash_people_df_v4[\"AGE\"] = crash_people_df_v4[\"AGE\"].astype(\"int\")"
   ]
  },
  {
   "cell_type": "code",
   "execution_count": 47,
   "metadata": {},
   "outputs": [
    {
     "name": "stdout",
     "output_type": "stream",
     "text": [
      "0\n",
      "0\n"
     ]
    }
   ],
   "source": [
    "\n",
    "print(crash_people_df_v4[crash_people_df_v4[\"PERSON_ID\"].duplicated() == True].shape[0])\n",
    "\n",
    "print(crash_people_df_v4[crash_people_df_v4[\"PERSON_ID\"].duplicated() == True].size)\n",
    "\n",
    "\n",
    "#-------------- PERSON_ID holds unique values and no duplicates \n"
   ]
  },
  {
   "cell_type": "code",
   "execution_count": 48,
   "metadata": {},
   "outputs": [
    {
     "data": {
      "text/html": [
       "<div>\n",
       "<style scoped>\n",
       "    .dataframe tbody tr th:only-of-type {\n",
       "        vertical-align: middle;\n",
       "    }\n",
       "\n",
       "    .dataframe tbody tr th {\n",
       "        vertical-align: top;\n",
       "    }\n",
       "\n",
       "    .dataframe thead th {\n",
       "        text-align: right;\n",
       "    }\n",
       "</style>\n",
       "<table border=\"1\" class=\"dataframe\">\n",
       "  <thead>\n",
       "    <tr style=\"text-align: right;\">\n",
       "      <th></th>\n",
       "      <th>PERSON_ID</th>\n",
       "      <th>PERSON_TYPE</th>\n",
       "      <th>CRASH_RECORD_ID</th>\n",
       "      <th>CRASH_DATE</th>\n",
       "      <th>INJURY_CLASSIFICATION</th>\n",
       "      <th>YEAR</th>\n",
       "      <th>SEX</th>\n",
       "      <th>AGE</th>\n",
       "    </tr>\n",
       "  </thead>\n",
       "  <tbody>\n",
       "    <tr>\n",
       "      <th>0</th>\n",
       "      <td>O749947</td>\n",
       "      <td>DRIVER</td>\n",
       "      <td>81dc0de2ed92aa62baccab641fa377be7feb1cc47e6554...</td>\n",
       "      <td>2019-09-28 03:30:00</td>\n",
       "      <td>NO INDICATION OF INJURY</td>\n",
       "      <td>2019</td>\n",
       "      <td>MALE</td>\n",
       "      <td>25</td>\n",
       "    </tr>\n",
       "    <tr>\n",
       "      <th>1</th>\n",
       "      <td>O871921</td>\n",
       "      <td>DRIVER</td>\n",
       "      <td>af84fb5c8d996fcd3aefd36593c3a02e6e7509eeb27568...</td>\n",
       "      <td>2020-04-13 22:50:00</td>\n",
       "      <td>NO INDICATION OF INJURY</td>\n",
       "      <td>2020</td>\n",
       "      <td>MALE</td>\n",
       "      <td>37</td>\n",
       "    </tr>\n",
       "  </tbody>\n",
       "</table>\n",
       "</div>"
      ],
      "text/plain": [
       "  PERSON_ID PERSON_TYPE                                    CRASH_RECORD_ID  \\\n",
       "0   O749947      DRIVER  81dc0de2ed92aa62baccab641fa377be7feb1cc47e6554...   \n",
       "1   O871921      DRIVER  af84fb5c8d996fcd3aefd36593c3a02e6e7509eeb27568...   \n",
       "\n",
       "           CRASH_DATE    INJURY_CLASSIFICATION  YEAR   SEX  AGE  \n",
       "0 2019-09-28 03:30:00  NO INDICATION OF INJURY  2019  MALE   25  \n",
       "1 2020-04-13 22:50:00  NO INDICATION OF INJURY  2020  MALE   37  "
      ]
     },
     "execution_count": 48,
     "metadata": {},
     "output_type": "execute_result"
    }
   ],
   "source": [
    "#cols = list(crash_people_df_v4.columns.values)\n",
    "cols = ['PERSON_ID','PERSON_TYPE','CRASH_RECORD_ID','CRASH_DATE',\"INJURY_CLASSIFICATION\",'YEAR','SEX','AGE']\n",
    "\n",
    "crash_people_df_v5 = crash_people_df_v4.copy()\n",
    "crash_people_df_v5 = crash_people_df_v5.reindex(columns=cols)\n",
    "crash_people_df_v5.head(2)"
   ]
  },
  {
   "cell_type": "code",
   "execution_count": 49,
   "metadata": {},
   "outputs": [
    {
     "name": "stdout",
     "output_type": "stream",
     "text": [
      "\n",
      "(969340, 8)\n",
      "(969340, 8)\n",
      "(969340, 8)\n"
     ]
    }
   ],
   "source": [
    "print(\"\")\n",
    "print(crash_people_df_v3.shape)\n",
    "print(crash_people_df_v4.shape)\n",
    "print(crash_people_df_v5.shape)"
   ]
  },
  {
   "cell_type": "code",
   "execution_count": 50,
   "metadata": {},
   "outputs": [],
   "source": [
    "#-------------- Store final result as a csv file\n",
    "crash_people_df_v5.to_csv(\"chicago_data/chicago_clean_crash_people_2022.csv\", encoding=\"utf-8\")"
   ]
  },
  {
   "cell_type": "markdown",
   "metadata": {},
   "source": [
    "### Chicago Crash_Vehicle Data Cleaning || Feature Engineering || Formatting"
   ]
  },
  {
   "cell_type": "code",
   "execution_count": 51,
   "metadata": {},
   "outputs": [
    {
     "name": "stderr",
     "output_type": "stream",
     "text": [
      "C:\\ProgramData\\Anaconda3\\lib\\site-packages\\IPython\\core\\interactiveshell.py:3146: DtypeWarning: Columns (19,21,40,41,42,44,48,49,50,53,55,58,59,61,71) have mixed types.Specify dtype option on import or set low_memory=False.\n",
      "  has_raised = await self.run_ast_nodes(code_ast.body, cell_name,\n"
     ]
    }
   ],
   "source": [
    "#-------------- Read Chicago Crash Vehicles Data\n",
    "\n",
    "vehicle_df = pd.read_csv(\"chicago_data/traffic_crashes_vehicles_2022.csv\")"
   ]
  },
  {
   "cell_type": "code",
   "execution_count": 52,
   "metadata": {},
   "outputs": [
    {
     "data": {
      "text/plain": [
       "(1186447, 72)"
      ]
     },
     "execution_count": 52,
     "metadata": {},
     "output_type": "execute_result"
    }
   ],
   "source": [
    "vehicle_df.shape"
   ]
  },
  {
   "cell_type": "code",
   "execution_count": 53,
   "metadata": {},
   "outputs": [
    {
     "data": {
      "text/html": [
       "<div>\n",
       "<style scoped>\n",
       "    .dataframe tbody tr th:only-of-type {\n",
       "        vertical-align: middle;\n",
       "    }\n",
       "\n",
       "    .dataframe tbody tr th {\n",
       "        vertical-align: top;\n",
       "    }\n",
       "\n",
       "    .dataframe thead th {\n",
       "        text-align: right;\n",
       "    }\n",
       "</style>\n",
       "<table border=\"1\" class=\"dataframe\">\n",
       "  <thead>\n",
       "    <tr style=\"text-align: right;\">\n",
       "      <th></th>\n",
       "      <th>CRASH_UNIT_ID</th>\n",
       "      <th>CRASH_RECORD_ID</th>\n",
       "      <th>RD_NO</th>\n",
       "      <th>CRASH_DATE</th>\n",
       "      <th>UNIT_NO</th>\n",
       "      <th>UNIT_TYPE</th>\n",
       "      <th>NUM_PASSENGERS</th>\n",
       "      <th>VEHICLE_ID</th>\n",
       "      <th>CMRC_VEH_I</th>\n",
       "      <th>MAKE</th>\n",
       "      <th>...</th>\n",
       "      <th>TRAILER1_LENGTH</th>\n",
       "      <th>TRAILER2_LENGTH</th>\n",
       "      <th>TOTAL_VEHICLE_LENGTH</th>\n",
       "      <th>AXLE_CNT</th>\n",
       "      <th>VEHICLE_CONFIG</th>\n",
       "      <th>CARGO_BODY_TYPE</th>\n",
       "      <th>LOAD_TYPE</th>\n",
       "      <th>HAZMAT_OUT_OF_SERVICE_I</th>\n",
       "      <th>MCS_OUT_OF_SERVICE_I</th>\n",
       "      <th>HAZMAT_CLASS</th>\n",
       "    </tr>\n",
       "  </thead>\n",
       "  <tbody>\n",
       "    <tr>\n",
       "      <th>0</th>\n",
       "      <td>829999</td>\n",
       "      <td>24ddf9fd8542199d832e1c223cc474e5601b356f1d77a6...</td>\n",
       "      <td>JD124535</td>\n",
       "      <td>01/22/2020 06:25:00 AM</td>\n",
       "      <td>1</td>\n",
       "      <td>DRIVER</td>\n",
       "      <td>NaN</td>\n",
       "      <td>796949.0</td>\n",
       "      <td>NaN</td>\n",
       "      <td>INFINITI</td>\n",
       "      <td>...</td>\n",
       "      <td>NaN</td>\n",
       "      <td>NaN</td>\n",
       "      <td>NaN</td>\n",
       "      <td>NaN</td>\n",
       "      <td>NaN</td>\n",
       "      <td>NaN</td>\n",
       "      <td>NaN</td>\n",
       "      <td>NaN</td>\n",
       "      <td>NaN</td>\n",
       "      <td>NaN</td>\n",
       "    </tr>\n",
       "    <tr>\n",
       "      <th>1</th>\n",
       "      <td>749947</td>\n",
       "      <td>81dc0de2ed92aa62baccab641fa377be7feb1cc47e6554...</td>\n",
       "      <td>JC451435</td>\n",
       "      <td>09/28/2019 03:30:00 AM</td>\n",
       "      <td>1</td>\n",
       "      <td>DRIVER</td>\n",
       "      <td>NaN</td>\n",
       "      <td>834816.0</td>\n",
       "      <td>NaN</td>\n",
       "      <td>HONDA</td>\n",
       "      <td>...</td>\n",
       "      <td>NaN</td>\n",
       "      <td>NaN</td>\n",
       "      <td>NaN</td>\n",
       "      <td>NaN</td>\n",
       "      <td>NaN</td>\n",
       "      <td>NaN</td>\n",
       "      <td>NaN</td>\n",
       "      <td>NaN</td>\n",
       "      <td>NaN</td>\n",
       "      <td>NaN</td>\n",
       "    </tr>\n",
       "  </tbody>\n",
       "</table>\n",
       "<p>2 rows × 72 columns</p>\n",
       "</div>"
      ],
      "text/plain": [
       "   CRASH_UNIT_ID                                    CRASH_RECORD_ID     RD_NO  \\\n",
       "0         829999  24ddf9fd8542199d832e1c223cc474e5601b356f1d77a6...  JD124535   \n",
       "1         749947  81dc0de2ed92aa62baccab641fa377be7feb1cc47e6554...  JC451435   \n",
       "\n",
       "               CRASH_DATE  UNIT_NO UNIT_TYPE  NUM_PASSENGERS  VEHICLE_ID  \\\n",
       "0  01/22/2020 06:25:00 AM        1    DRIVER             NaN    796949.0   \n",
       "1  09/28/2019 03:30:00 AM        1    DRIVER             NaN    834816.0   \n",
       "\n",
       "  CMRC_VEH_I      MAKE  ... TRAILER1_LENGTH TRAILER2_LENGTH  \\\n",
       "0        NaN  INFINITI  ...             NaN             NaN   \n",
       "1        NaN     HONDA  ...             NaN             NaN   \n",
       "\n",
       "   TOTAL_VEHICLE_LENGTH AXLE_CNT VEHICLE_CONFIG CARGO_BODY_TYPE LOAD_TYPE  \\\n",
       "0                   NaN      NaN            NaN             NaN       NaN   \n",
       "1                   NaN      NaN            NaN             NaN       NaN   \n",
       "\n",
       "  HAZMAT_OUT_OF_SERVICE_I MCS_OUT_OF_SERVICE_I HAZMAT_CLASS  \n",
       "0                     NaN                  NaN          NaN  \n",
       "1                     NaN                  NaN          NaN  \n",
       "\n",
       "[2 rows x 72 columns]"
      ]
     },
     "execution_count": 53,
     "metadata": {},
     "output_type": "execute_result"
    }
   ],
   "source": [
    "#-------------- Check Columns and Dataset\n",
    "\n",
    "\n",
    "vehicle_df.head(2)"
   ]
  },
  {
   "cell_type": "code",
   "execution_count": 54,
   "metadata": {},
   "outputs": [
    {
     "data": {
      "text/html": [
       "<div>\n",
       "<style scoped>\n",
       "    .dataframe tbody tr th:only-of-type {\n",
       "        vertical-align: middle;\n",
       "    }\n",
       "\n",
       "    .dataframe tbody tr th {\n",
       "        vertical-align: top;\n",
       "    }\n",
       "\n",
       "    .dataframe thead th {\n",
       "        text-align: right;\n",
       "    }\n",
       "</style>\n",
       "<table border=\"1\" class=\"dataframe\">\n",
       "  <thead>\n",
       "    <tr style=\"text-align: right;\">\n",
       "      <th></th>\n",
       "      <th>CRASH_RECORD_ID</th>\n",
       "      <th>UNIT_TYPE</th>\n",
       "      <th>VEHICLE_YEAR</th>\n",
       "    </tr>\n",
       "  </thead>\n",
       "  <tbody>\n",
       "    <tr>\n",
       "      <th>0</th>\n",
       "      <td>24ddf9fd8542199d832e1c223cc474e5601b356f1d77a6...</td>\n",
       "      <td>DRIVER</td>\n",
       "      <td>2017.0</td>\n",
       "    </tr>\n",
       "    <tr>\n",
       "      <th>1</th>\n",
       "      <td>81dc0de2ed92aa62baccab641fa377be7feb1cc47e6554...</td>\n",
       "      <td>DRIVER</td>\n",
       "      <td>2016.0</td>\n",
       "    </tr>\n",
       "  </tbody>\n",
       "</table>\n",
       "</div>"
      ],
      "text/plain": [
       "                                     CRASH_RECORD_ID UNIT_TYPE  VEHICLE_YEAR\n",
       "0  24ddf9fd8542199d832e1c223cc474e5601b356f1d77a6...    DRIVER        2017.0\n",
       "1  81dc0de2ed92aa62baccab641fa377be7feb1cc47e6554...    DRIVER        2016.0"
      ]
     },
     "execution_count": 54,
     "metadata": {},
     "output_type": "execute_result"
    }
   ],
   "source": [
    "#-------------- Extract All Relevant Fields\n",
    "\n",
    "sub_columns = [\"CRASH_RECORD_ID\",\"UNIT_TYPE\",\"VEHICLE_YEAR\"]\n",
    "vehicle_df_v2 = vehicle_df.copy()\n",
    "vehicle_df_v2 = vehicle_df_v2[sub_columns]\n",
    "vehicle_df_v2.head(2)"
   ]
  },
  {
   "cell_type": "code",
   "execution_count": 55,
   "metadata": {},
   "outputs": [
    {
     "data": {
      "text/plain": [
       "VEHICLE_YEAR\n",
       "1900.0    250\n",
       "1901.0     15\n",
       "1905.0      1\n",
       "1909.0      1\n",
       "1911.0      1\n",
       "         ... \n",
       "8001.0      1\n",
       "8609.0      1\n",
       "9418.0      1\n",
       "9900.0      2\n",
       "9999.0    320\n",
       "Length: 196, dtype: int64"
      ]
     },
     "execution_count": 55,
     "metadata": {},
     "output_type": "execute_result"
    }
   ],
   "source": [
    "\"\"\"\n",
    "Earliers car manufacture year in the dataset is 1900\n",
    "\"\"\"\n",
    "vehicle_df_v2.groupby([\"VEHICLE_YEAR\"]).size()\n"
   ]
  },
  {
   "cell_type": "code",
   "execution_count": 56,
   "metadata": {},
   "outputs": [],
   "source": [
    "#------------------- Vehicle make year need to be on or after 1990 and on or before 2021 \n",
    "vehicle_df_v3 = vehicle_df_v2[(vehicle_df_v2[\"VEHICLE_YEAR\"]>=1990.0) & \n",
    "                                            (vehicle_df_v2[\"VEHICLE_YEAR\"]<=2021.0)]"
   ]
  },
  {
   "cell_type": "code",
   "execution_count": 57,
   "metadata": {},
   "outputs": [
    {
     "name": "stderr",
     "output_type": "stream",
     "text": [
      "<ipython-input-57-1bb9ed6fe2d0>:1: SettingWithCopyWarning: \n",
      "A value is trying to be set on a copy of a slice from a DataFrame.\n",
      "Try using .loc[row_indexer,col_indexer] = value instead\n",
      "\n",
      "See the caveats in the documentation: https://pandas.pydata.org/pandas-docs/stable/user_guide/indexing.html#returning-a-view-versus-a-copy\n",
      "  vehicle_df_v3[\"VEHICLE_YEAR\"] = vehicle_df_v3[\"VEHICLE_YEAR\"].astype(\"int\")\n"
     ]
    }
   ],
   "source": [
    "vehicle_df_v3[\"VEHICLE_YEAR\"] = vehicle_df_v3[\"VEHICLE_YEAR\"].astype(\"int\")"
   ]
  },
  {
   "cell_type": "code",
   "execution_count": 58,
   "metadata": {
    "scrolled": true
   },
   "outputs": [
    {
     "data": {
      "text/html": [
       "<div>\n",
       "<style scoped>\n",
       "    .dataframe tbody tr th:only-of-type {\n",
       "        vertical-align: middle;\n",
       "    }\n",
       "\n",
       "    .dataframe tbody tr th {\n",
       "        vertical-align: top;\n",
       "    }\n",
       "\n",
       "    .dataframe thead th {\n",
       "        text-align: right;\n",
       "    }\n",
       "</style>\n",
       "<table border=\"1\" class=\"dataframe\">\n",
       "  <thead>\n",
       "    <tr style=\"text-align: right;\">\n",
       "      <th></th>\n",
       "      <th>CRASH_RECORD_ID</th>\n",
       "      <th>UNIT_TYPE</th>\n",
       "      <th>VEHICLE_YEAR</th>\n",
       "    </tr>\n",
       "  </thead>\n",
       "  <tbody>\n",
       "    <tr>\n",
       "      <th>0</th>\n",
       "      <td>24ddf9fd8542199d832e1c223cc474e5601b356f1d77a6...</td>\n",
       "      <td>DRIVER</td>\n",
       "      <td>2017</td>\n",
       "    </tr>\n",
       "    <tr>\n",
       "      <th>1</th>\n",
       "      <td>81dc0de2ed92aa62baccab641fa377be7feb1cc47e6554...</td>\n",
       "      <td>DRIVER</td>\n",
       "      <td>2016</td>\n",
       "    </tr>\n",
       "  </tbody>\n",
       "</table>\n",
       "</div>"
      ],
      "text/plain": [
       "                                     CRASH_RECORD_ID UNIT_TYPE  VEHICLE_YEAR\n",
       "0  24ddf9fd8542199d832e1c223cc474e5601b356f1d77a6...    DRIVER          2017\n",
       "1  81dc0de2ed92aa62baccab641fa377be7feb1cc47e6554...    DRIVER          2016"
      ]
     },
     "execution_count": 58,
     "metadata": {},
     "output_type": "execute_result"
    }
   ],
   "source": [
    "vehicle_df_v3.head(2)"
   ]
  },
  {
   "cell_type": "code",
   "execution_count": 59,
   "metadata": {},
   "outputs": [
    {
     "name": "stderr",
     "output_type": "stream",
     "text": [
      "<ipython-input-59-ad51c9ebcd7e>:27: SettingWithCopyWarning: \n",
      "A value is trying to be set on a copy of a slice from a DataFrame.\n",
      "Try using .loc[row_indexer,col_indexer] = value instead\n",
      "\n",
      "See the caveats in the documentation: https://pandas.pydata.org/pandas-docs/stable/user_guide/indexing.html#returning-a-view-versus-a-copy\n",
      "  vehicle_df_v3[\"VEHICLE_AGE\"] = vehicle_age\n"
     ]
    },
    {
     "data": {
      "text/html": [
       "<div>\n",
       "<style scoped>\n",
       "    .dataframe tbody tr th:only-of-type {\n",
       "        vertical-align: middle;\n",
       "    }\n",
       "\n",
       "    .dataframe tbody tr th {\n",
       "        vertical-align: top;\n",
       "    }\n",
       "\n",
       "    .dataframe thead th {\n",
       "        text-align: right;\n",
       "    }\n",
       "</style>\n",
       "<table border=\"1\" class=\"dataframe\">\n",
       "  <thead>\n",
       "    <tr style=\"text-align: right;\">\n",
       "      <th></th>\n",
       "      <th>CRASH_RECORD_ID</th>\n",
       "      <th>UNIT_TYPE</th>\n",
       "      <th>VEHICLE_YEAR</th>\n",
       "      <th>VEHICLE_AGE</th>\n",
       "    </tr>\n",
       "  </thead>\n",
       "  <tbody>\n",
       "    <tr>\n",
       "      <th>0</th>\n",
       "      <td>24ddf9fd8542199d832e1c223cc474e5601b356f1d77a6...</td>\n",
       "      <td>DRIVER</td>\n",
       "      <td>2017</td>\n",
       "      <td>LessThan10Yrs</td>\n",
       "    </tr>\n",
       "    <tr>\n",
       "      <th>1</th>\n",
       "      <td>81dc0de2ed92aa62baccab641fa377be7feb1cc47e6554...</td>\n",
       "      <td>DRIVER</td>\n",
       "      <td>2016</td>\n",
       "      <td>LessThan10Yrs</td>\n",
       "    </tr>\n",
       "  </tbody>\n",
       "</table>\n",
       "</div>"
      ],
      "text/plain": [
       "                                     CRASH_RECORD_ID UNIT_TYPE  VEHICLE_YEAR  \\\n",
       "0  24ddf9fd8542199d832e1c223cc474e5601b356f1d77a6...    DRIVER          2017   \n",
       "1  81dc0de2ed92aa62baccab641fa377be7feb1cc47e6554...    DRIVER          2016   \n",
       "\n",
       "     VEHICLE_AGE  \n",
       "0  LessThan10Yrs  \n",
       "1  LessThan10Yrs  "
      ]
     },
     "execution_count": 59,
     "metadata": {},
     "output_type": "execute_result"
    }
   ],
   "source": [
    "\"\"\"\n",
    "\n",
    "vehicle age classification based on vehicle make year\n",
    "\n",
    "2021 is max treshold year when crashes occurred & reported\n",
    "\n",
    "Logic for For Loop is;\n",
    "\n",
    "if vehicle production year is greater than 2011 (2021 - 10) lable as 'LessThan10Yrs'\n",
    "else if vehicle production year is less than or equals to 2011 & greater than or equals to 2006 (2021-15) label as '10-15Yrs'\n",
    "else if vehicle production year is less than or equals to 2005 (2021 - 16) & greater than or equals to 2001 (2021 - 20) label as '16-20Yrs'\n",
    "else label 'GreaterThan20Yrs'\n",
    "\"\"\"\n",
    "\n",
    "vehicle_age = []\n",
    "\n",
    "for x in vehicle_df_v3[\"VEHICLE_YEAR\"]:\n",
    "    \n",
    "    if x > 2011:\n",
    "        vehicle_age.append(\"LessThan10Yrs\")\n",
    "    elif (x <= 2011) & (x >= 2006):\n",
    "        vehicle_age.append(\"10-15Yrs\")\n",
    "    elif (x <= 2005) & (x >= 2001):\n",
    "        vehicle_age.append(\"16-20Yrs\")\n",
    "    else:\n",
    "        vehicle_age.append(\"GreaterThan20Yrs\")\n",
    "        \n",
    "vehicle_df_v3[\"VEHICLE_AGE\"] = vehicle_age\n",
    "vehicle_df_v3.head(2)\n"
   ]
  },
  {
   "cell_type": "code",
   "execution_count": 60,
   "metadata": {},
   "outputs": [
    {
     "data": {
      "text/plain": [
       "DRIVER                 811696\n",
       "PARKED                 144677\n",
       "DRIVERLESS               9783\n",
       "DISABLED VEHICLE          115\n",
       "NON-CONTACT VEHICLE        60\n",
       "Name: UNIT_TYPE, dtype: int64"
      ]
     },
     "execution_count": 60,
     "metadata": {},
     "output_type": "execute_result"
    }
   ],
   "source": [
    "#--------------------------- For vehicles in crashes, only interested with controlled(driver's active) vehicles\n",
    "vehicle_df_v3[\"UNIT_TYPE\"].value_counts()"
   ]
  },
  {
   "cell_type": "code",
   "execution_count": 61,
   "metadata": {},
   "outputs": [],
   "source": [
    "vehicle_df_v4 = vehicle_df_v3.copy()\n",
    "vehicle_df_v4 = vehicle_df_v4[vehicle_df_v4[\"UNIT_TYPE\"]==\"DRIVER\"]"
   ]
  },
  {
   "cell_type": "code",
   "execution_count": 62,
   "metadata": {},
   "outputs": [
    {
     "data": {
      "text/plain": [
       "DRIVER    811696\n",
       "Name: UNIT_TYPE, dtype: int64"
      ]
     },
     "execution_count": 62,
     "metadata": {},
     "output_type": "execute_result"
    }
   ],
   "source": [
    "vehicle_df_v4[\"UNIT_TYPE\"].value_counts()"
   ]
  },
  {
   "cell_type": "code",
   "execution_count": 63,
   "metadata": {},
   "outputs": [],
   "source": [
    "#-------------- Store final result as a csv file\n",
    "vehicle_df_v4.to_csv(\"chicago_data/chicago_clean_crash_vehicles_2022.csv\", encoding=\"utf-8\")"
   ]
  },
  {
   "cell_type": "markdown",
   "metadata": {},
   "source": [
    "### Chicago Transit Authority Data Cleaning || Feature Engineering || Formatting"
   ]
  },
  {
   "cell_type": "markdown",
   "metadata": {},
   "source": [
    "Ridership Readme 12-Aug-2011 Chicago Transit Authority\n",
    "\n",
    "* About CTA ridership numbers * Ridership statistics are provided on a system-wide and bus route/station-level basis. Ridership is primarily counted as boardings, that is, customers boarding a transit vehicle (bus or rail). On the rail system, there is a distinction between station entries and total rides, or boardings. Datasets indicate such in their file name and description.\n",
    "\n",
    "* How people are counted on the 'L' * On the rail system, a customer is counted as an \"entry\" each time he or she passes through a turnstile to enter a station. Customers are not counted as \"entries\" when they make a \"cross-platform\" transfer from one rail line to another, since they don't pass through a turnstile. Where the number given for rail is in \"boardings,\" what's presented is a statistically valid estimate of the actual number of boardings onto the rail system.\n",
    "\n",
    "* How people are counted on buses * Boardings are recorded using the bus farebox and farecard reader. In the uncommon situation when there is an operating error with the farebox and the onboard systems cannot determine on which route a given trip's boardings should be allocated, these boardings are tallied as Route 0 in some reports. Route 1001 are shuttle buses used for construction or other unforeseen events.\n",
    "\n",
    "* \"Daytype\" * Daytype fields in the data are coded as \"W\" for Weekday, \"A\" for Saturday and \"U\" for Sunday/Holidays. Note that New Year's Day, Memorial Day, Independence Day, Labor Day, Thanksgiving, and Christmas Day are considered as \"Sundays\" for the purposes of ridership reporting. All other holidays are reported as the type of day they fall on.`m"
   ]
  },
  {
   "cell_type": "code",
   "execution_count": 64,
   "metadata": {},
   "outputs": [
    {
     "data": {
      "text/html": [
       "<div>\n",
       "<style scoped>\n",
       "    .dataframe tbody tr th:only-of-type {\n",
       "        vertical-align: middle;\n",
       "    }\n",
       "\n",
       "    .dataframe tbody tr th {\n",
       "        vertical-align: top;\n",
       "    }\n",
       "\n",
       "    .dataframe thead th {\n",
       "        text-align: right;\n",
       "    }\n",
       "</style>\n",
       "<table border=\"1\" class=\"dataframe\">\n",
       "  <thead>\n",
       "    <tr style=\"text-align: right;\">\n",
       "      <th></th>\n",
       "      <th>service_date</th>\n",
       "      <th>day_type</th>\n",
       "      <th>bus</th>\n",
       "      <th>rail_boardings</th>\n",
       "      <th>total_rides</th>\n",
       "    </tr>\n",
       "  </thead>\n",
       "  <tbody>\n",
       "    <tr>\n",
       "      <th>0</th>\n",
       "      <td>01/01/2001</td>\n",
       "      <td>U</td>\n",
       "      <td>297192</td>\n",
       "      <td>126455</td>\n",
       "      <td>423647</td>\n",
       "    </tr>\n",
       "    <tr>\n",
       "      <th>1</th>\n",
       "      <td>01/02/2001</td>\n",
       "      <td>W</td>\n",
       "      <td>780827</td>\n",
       "      <td>501952</td>\n",
       "      <td>1282779</td>\n",
       "    </tr>\n",
       "  </tbody>\n",
       "</table>\n",
       "</div>"
      ],
      "text/plain": [
       "  service_date day_type     bus  rail_boardings  total_rides\n",
       "0   01/01/2001        U  297192          126455       423647\n",
       "1   01/02/2001        W  780827          501952      1282779"
      ]
     },
     "execution_count": 64,
     "metadata": {},
     "output_type": "execute_result"
    }
   ],
   "source": [
    "#-------------- Read Chicago Transit Authority Data\n",
    "\n",
    "cta_df = pd.read_csv(\"chicago_data/CTA_ridership_daily_boarding_totals.csv\")\n",
    "cta_df.head(2)"
   ]
  },
  {
   "cell_type": "code",
   "execution_count": 65,
   "metadata": {},
   "outputs": [
    {
     "data": {
      "text/plain": [
       "service_date      0\n",
       "day_type          0\n",
       "bus               0\n",
       "rail_boardings    0\n",
       "total_rides       0\n",
       "dtype: int64"
      ]
     },
     "execution_count": 65,
     "metadata": {},
     "output_type": "execute_result"
    }
   ],
   "source": [
    "#-------------- Check for null/missing values\n",
    "\n",
    "cta_df.isnull().sum()\n",
    "\n",
    "#-------------- No missing values in all data filds"
   ]
  },
  {
   "cell_type": "code",
   "execution_count": 66,
   "metadata": {},
   "outputs": [
    {
     "data": {
      "text/plain": [
       "Index(['service_date', 'day_type', 'bus', 'rail_boardings', 'total_rides'], dtype='object')"
      ]
     },
     "execution_count": 66,
     "metadata": {},
     "output_type": "execute_result"
    }
   ],
   "source": [
    "#-------------- Rename columns\n",
    "cta_df.columns"
   ]
  },
  {
   "cell_type": "code",
   "execution_count": 67,
   "metadata": {},
   "outputs": [],
   "source": [
    "cols_rename = { \n",
    "                \"service_date\"   : \"SERVICE_DATE\",\n",
    "                \"day_type\"       : \"WEEK_DAY1\", \n",
    "                'bus'            : \"BUS_RIDES\", \n",
    "                \"rail_boardings\" : \"RAIL_BOARDINGS\",\n",
    "                \"total_rides\"    : \"TOTAL_RIDES\"}\n",
    "\n",
    "cta_df = cta_df.rename(columns=cols_rename)"
   ]
  },
  {
   "cell_type": "code",
   "execution_count": 68,
   "metadata": {},
   "outputs": [],
   "source": [
    "#-------------- Convert SERVICE_DATE to pandas datetime\n",
    "\n",
    "cta_df[\"SERVICE_DATE\"] = pd.to_datetime(cta_df[\"SERVICE_DATE\"])"
   ]
  },
  {
   "cell_type": "code",
   "execution_count": 69,
   "metadata": {},
   "outputs": [],
   "source": [
    "#-------------- Add feature fields spriging from SERVICE_DATE field\n",
    "cta_df[\"YEAR\"]        = cta_df[\"SERVICE_DATE\"].dt.year\n",
    "cta_df[\"MONTH\"]       = cta_df[\"SERVICE_DATE\"].dt.month\n",
    "cta_df[\"WEEK_DAY2\"]   = cta_df[\"SERVICE_DATE\"].dt.weekday\n",
    "cta_df[\"WEEK_DAY\"]    = cta_df[\"SERVICE_DATE\"].dt.day_name()"
   ]
  },
  {
   "cell_type": "code",
   "execution_count": 70,
   "metadata": {
    "scrolled": true
   },
   "outputs": [
    {
     "data": {
      "text/html": [
       "<div>\n",
       "<style scoped>\n",
       "    .dataframe tbody tr th:only-of-type {\n",
       "        vertical-align: middle;\n",
       "    }\n",
       "\n",
       "    .dataframe tbody tr th {\n",
       "        vertical-align: top;\n",
       "    }\n",
       "\n",
       "    .dataframe thead th {\n",
       "        text-align: right;\n",
       "    }\n",
       "</style>\n",
       "<table border=\"1\" class=\"dataframe\">\n",
       "  <thead>\n",
       "    <tr style=\"text-align: right;\">\n",
       "      <th></th>\n",
       "      <th>SERVICE_DATE</th>\n",
       "      <th>WEEK_DAY1</th>\n",
       "      <th>BUS_RIDES</th>\n",
       "      <th>RAIL_BOARDINGS</th>\n",
       "      <th>TOTAL_RIDES</th>\n",
       "      <th>YEAR</th>\n",
       "      <th>MONTH</th>\n",
       "      <th>WEEK_DAY2</th>\n",
       "      <th>WEEK_DAY</th>\n",
       "    </tr>\n",
       "  </thead>\n",
       "  <tbody>\n",
       "    <tr>\n",
       "      <th>0</th>\n",
       "      <td>2001-01-01</td>\n",
       "      <td>U</td>\n",
       "      <td>297192</td>\n",
       "      <td>126455</td>\n",
       "      <td>423647</td>\n",
       "      <td>2001</td>\n",
       "      <td>1</td>\n",
       "      <td>0</td>\n",
       "      <td>Monday</td>\n",
       "    </tr>\n",
       "    <tr>\n",
       "      <th>1</th>\n",
       "      <td>2001-01-02</td>\n",
       "      <td>W</td>\n",
       "      <td>780827</td>\n",
       "      <td>501952</td>\n",
       "      <td>1282779</td>\n",
       "      <td>2001</td>\n",
       "      <td>1</td>\n",
       "      <td>1</td>\n",
       "      <td>Tuesday</td>\n",
       "    </tr>\n",
       "    <tr>\n",
       "      <th>2</th>\n",
       "      <td>2001-01-03</td>\n",
       "      <td>W</td>\n",
       "      <td>824923</td>\n",
       "      <td>536432</td>\n",
       "      <td>1361355</td>\n",
       "      <td>2001</td>\n",
       "      <td>1</td>\n",
       "      <td>2</td>\n",
       "      <td>Wednesday</td>\n",
       "    </tr>\n",
       "    <tr>\n",
       "      <th>3</th>\n",
       "      <td>2001-01-04</td>\n",
       "      <td>W</td>\n",
       "      <td>870021</td>\n",
       "      <td>550011</td>\n",
       "      <td>1420032</td>\n",
       "      <td>2001</td>\n",
       "      <td>1</td>\n",
       "      <td>3</td>\n",
       "      <td>Thursday</td>\n",
       "    </tr>\n",
       "    <tr>\n",
       "      <th>4</th>\n",
       "      <td>2001-01-05</td>\n",
       "      <td>W</td>\n",
       "      <td>890426</td>\n",
       "      <td>557917</td>\n",
       "      <td>1448343</td>\n",
       "      <td>2001</td>\n",
       "      <td>1</td>\n",
       "      <td>4</td>\n",
       "      <td>Friday</td>\n",
       "    </tr>\n",
       "  </tbody>\n",
       "</table>\n",
       "</div>"
      ],
      "text/plain": [
       "  SERVICE_DATE WEEK_DAY1  BUS_RIDES  RAIL_BOARDINGS  TOTAL_RIDES  YEAR  MONTH  \\\n",
       "0   2001-01-01         U     297192          126455       423647  2001      1   \n",
       "1   2001-01-02         W     780827          501952      1282779  2001      1   \n",
       "2   2001-01-03         W     824923          536432      1361355  2001      1   \n",
       "3   2001-01-04         W     870021          550011      1420032  2001      1   \n",
       "4   2001-01-05         W     890426          557917      1448343  2001      1   \n",
       "\n",
       "   WEEK_DAY2   WEEK_DAY  \n",
       "0          0     Monday  \n",
       "1          1    Tuesday  \n",
       "2          2  Wednesday  \n",
       "3          3   Thursday  \n",
       "4          4     Friday  "
      ]
     },
     "execution_count": 70,
     "metadata": {},
     "output_type": "execute_result"
    }
   ],
   "source": [
    "cta_df.head(5)"
   ]
  },
  {
   "cell_type": "code",
   "execution_count": 71,
   "metadata": {},
   "outputs": [
    {
     "data": {
      "text/html": [
       "<div>\n",
       "<style scoped>\n",
       "    .dataframe tbody tr th:only-of-type {\n",
       "        vertical-align: middle;\n",
       "    }\n",
       "\n",
       "    .dataframe tbody tr th {\n",
       "        vertical-align: top;\n",
       "    }\n",
       "\n",
       "    .dataframe thead th {\n",
       "        text-align: right;\n",
       "    }\n",
       "</style>\n",
       "<table border=\"1\" class=\"dataframe\">\n",
       "  <thead>\n",
       "    <tr style=\"text-align: right;\">\n",
       "      <th></th>\n",
       "      <th>SERVICE_DATE</th>\n",
       "      <th>WEEK_DAY1</th>\n",
       "      <th>BUS_RIDES</th>\n",
       "      <th>RAIL_BOARDINGS</th>\n",
       "      <th>TOTAL_RIDES</th>\n",
       "      <th>YEAR</th>\n",
       "      <th>MONTH</th>\n",
       "      <th>WEEK_DAY2</th>\n",
       "      <th>WEEK_DAY</th>\n",
       "    </tr>\n",
       "  </thead>\n",
       "  <tbody>\n",
       "    <tr>\n",
       "      <th>0</th>\n",
       "      <td>2001-01-01</td>\n",
       "      <td>Sunday</td>\n",
       "      <td>297192</td>\n",
       "      <td>126455</td>\n",
       "      <td>423647</td>\n",
       "      <td>2001</td>\n",
       "      <td>1</td>\n",
       "      <td>0</td>\n",
       "      <td>Monday</td>\n",
       "    </tr>\n",
       "    <tr>\n",
       "      <th>1</th>\n",
       "      <td>2001-01-02</td>\n",
       "      <td>Weekday</td>\n",
       "      <td>780827</td>\n",
       "      <td>501952</td>\n",
       "      <td>1282779</td>\n",
       "      <td>2001</td>\n",
       "      <td>1</td>\n",
       "      <td>1</td>\n",
       "      <td>Tuesday</td>\n",
       "    </tr>\n",
       "  </tbody>\n",
       "</table>\n",
       "</div>"
      ],
      "text/plain": [
       "  SERVICE_DATE WEEK_DAY1  BUS_RIDES  RAIL_BOARDINGS  TOTAL_RIDES  YEAR  MONTH  \\\n",
       "0   2001-01-01    Sunday     297192          126455       423647  2001      1   \n",
       "1   2001-01-02   Weekday     780827          501952      1282779  2001      1   \n",
       "\n",
       "   WEEK_DAY2 WEEK_DAY  \n",
       "0          0   Monday  \n",
       "1          1  Tuesday  "
      ]
     },
     "execution_count": 71,
     "metadata": {},
     "output_type": "execute_result"
    }
   ],
   "source": [
    "#-------------- Rename WEEK_DAY1 (original data week day) encoding and alter from string/object to category datatype\n",
    "days_rename         = {\"A\" : \"Saturday\", \"U\" : \"Sunday\", \"W\" : \"Weekday\"}\n",
    "cta_df[\"WEEK_DAY1\"] = cta_df[\"WEEK_DAY1\"].replace(days_rename)\n",
    "cta_df.head(2)"
   ]
  },
  {
   "cell_type": "code",
   "execution_count": 72,
   "metadata": {},
   "outputs": [
    {
     "data": {
      "text/plain": [
       "'\\nOn the original dataset day of week translated to  \"W\" for Weekday, \"A\" for \\nSaturday and \"U\" for Sunday/Holidays, thus on the feature field, WEEK_DAY_NAME,\\nand the original WEEK_DAY1 field don\\'t much on Sunday then it is a holiday, \\nas it was flaged Sunday on the original data field on a day that was not Sunday..\\n'"
      ]
     },
     "execution_count": 72,
     "metadata": {},
     "output_type": "execute_result"
    }
   ],
   "source": [
    "\"\"\"\n",
    "On the original dataset day of week translated to  \"W\" for Weekday, \"A\" for \n",
    "Saturday and \"U\" for Sunday/Holidays, thus on the feature field, WEEK_DAY_NAME,\n",
    "and the original WEEK_DAY1 field don't much on Sunday then it is a holiday, \n",
    "as it was flaged Sunday on the original data field on a day that was not Sunday..\n",
    "\"\"\""
   ]
  },
  {
   "cell_type": "code",
   "execution_count": 73,
   "metadata": {},
   "outputs": [],
   "source": [
    "#-------------- Add a Holiday Field based on exisitng field values (Yes:Holiday, No:Not Holiday)\n",
    "\n",
    "cta_df[\"HOLIDAY\"] = np.where((cta_df[\"WEEK_DAY1\"]==\"Sunday\")&(cta_df[\"WEEK_DAY\"]!=\"Sunday\"),\"Yes\",\"No\")\n",
    "\n"
   ]
  },
  {
   "cell_type": "code",
   "execution_count": 74,
   "metadata": {},
   "outputs": [],
   "source": [
    "#-------------- Drop WEEK_DAY1 & WEEK_DAY as they are redundant\n",
    "cta_df = cta_df.drop(columns=[\"WEEK_DAY1\",\"WEEK_DAY2\"])"
   ]
  },
  {
   "cell_type": "code",
   "execution_count": 75,
   "metadata": {},
   "outputs": [
    {
     "data": {
      "text/html": [
       "<div>\n",
       "<style scoped>\n",
       "    .dataframe tbody tr th:only-of-type {\n",
       "        vertical-align: middle;\n",
       "    }\n",
       "\n",
       "    .dataframe tbody tr th {\n",
       "        vertical-align: top;\n",
       "    }\n",
       "\n",
       "    .dataframe thead th {\n",
       "        text-align: right;\n",
       "    }\n",
       "</style>\n",
       "<table border=\"1\" class=\"dataframe\">\n",
       "  <thead>\n",
       "    <tr style=\"text-align: right;\">\n",
       "      <th></th>\n",
       "      <th>SERVICE_DATE</th>\n",
       "      <th>BUS_RIDES</th>\n",
       "      <th>RAIL_BOARDINGS</th>\n",
       "      <th>TOTAL_RIDES</th>\n",
       "      <th>YEAR</th>\n",
       "      <th>MONTH</th>\n",
       "      <th>WEEK_DAY</th>\n",
       "      <th>HOLIDAY</th>\n",
       "    </tr>\n",
       "  </thead>\n",
       "  <tbody>\n",
       "    <tr>\n",
       "      <th>0</th>\n",
       "      <td>2001-01-01</td>\n",
       "      <td>297192</td>\n",
       "      <td>126455</td>\n",
       "      <td>423647</td>\n",
       "      <td>2001</td>\n",
       "      <td>1</td>\n",
       "      <td>Monday</td>\n",
       "      <td>Yes</td>\n",
       "    </tr>\n",
       "    <tr>\n",
       "      <th>1</th>\n",
       "      <td>2001-01-02</td>\n",
       "      <td>780827</td>\n",
       "      <td>501952</td>\n",
       "      <td>1282779</td>\n",
       "      <td>2001</td>\n",
       "      <td>1</td>\n",
       "      <td>Tuesday</td>\n",
       "      <td>No</td>\n",
       "    </tr>\n",
       "  </tbody>\n",
       "</table>\n",
       "</div>"
      ],
      "text/plain": [
       "  SERVICE_DATE  BUS_RIDES  RAIL_BOARDINGS  TOTAL_RIDES  YEAR  MONTH WEEK_DAY  \\\n",
       "0   2001-01-01     297192          126455       423647  2001      1   Monday   \n",
       "1   2001-01-02     780827          501952      1282779  2001      1  Tuesday   \n",
       "\n",
       "  HOLIDAY  \n",
       "0     Yes  \n",
       "1      No  "
      ]
     },
     "execution_count": 75,
     "metadata": {},
     "output_type": "execute_result"
    }
   ],
   "source": [
    "cta_df.head(2)"
   ]
  },
  {
   "cell_type": "code",
   "execution_count": 76,
   "metadata": {},
   "outputs": [
    {
     "data": {
      "text/plain": [
       "SERVICE_DATE      datetime64[ns]\n",
       "BUS_RIDES                  int64\n",
       "RAIL_BOARDINGS             int64\n",
       "TOTAL_RIDES                int64\n",
       "YEAR                       int64\n",
       "MONTH                      int64\n",
       "WEEK_DAY                category\n",
       "HOLIDAY                     bool\n",
       "dtype: object"
      ]
     },
     "execution_count": 76,
     "metadata": {},
     "output_type": "execute_result"
    }
   ],
   "source": [
    "#-------------- Check datatypes of each field and evaluate need for conversion\n",
    "\n",
    "cta_df.dtypes\n",
    "\n",
    "#-------------- Dataset is relatively small size for conversion object/stirng to category fields when \n",
    "# applicable to improve memory usage and enhance runtime performace\n",
    "\n",
    "cta_df[\"WEEK_DAY\"] = cta_df[\"WEEK_DAY\"].astype(\"category\")\n",
    "cta_df[\"HOLIDAY\"]  = cta_df[\"HOLIDAY\"].astype(\"bool\")\n",
    "cta_df.dtypes"
   ]
  },
  {
   "cell_type": "code",
   "execution_count": 77,
   "metadata": {},
   "outputs": [
    {
     "data": {
      "text/plain": [
       "2011    396\n",
       "2014    396\n",
       "2004    366\n",
       "2008    366\n",
       "2012    366\n",
       "2016    366\n",
       "2020    366\n",
       "2013    365\n",
       "2001    365\n",
       "2005    365\n",
       "2009    365\n",
       "2019    365\n",
       "2017    365\n",
       "2015    365\n",
       "2002    365\n",
       "2006    365\n",
       "2010    365\n",
       "2018    365\n",
       "2003    365\n",
       "2007    365\n",
       "2021    212\n",
       "Name: YEAR, dtype: int64"
      ]
     },
     "execution_count": 77,
     "metadata": {},
     "output_type": "execute_result"
    }
   ],
   "source": [
    "#-------------- We are interested in analyzing crash datset since 2018, let see how far cta_df goes back\n",
    "\n",
    "cta_df[\"YEAR\"].value_counts()"
   ]
  },
  {
   "cell_type": "code",
   "execution_count": 78,
   "metadata": {},
   "outputs": [
    {
     "data": {
      "text/plain": [
       "2020    366\n",
       "2019    365\n",
       "2018    365\n",
       "2021    212\n",
       "Name: YEAR, dtype: int64"
      ]
     },
     "execution_count": 78,
     "metadata": {},
     "output_type": "execute_result"
    }
   ],
   "source": [
    "#-------------- Get data since 2018 only\n",
    "cta_df = cta_df[cta_df[\"YEAR\"] >= 2018]\n",
    "cta_df[\"YEAR\"].value_counts()"
   ]
  },
  {
   "cell_type": "code",
   "execution_count": 79,
   "metadata": {},
   "outputs": [],
   "source": [
    "#-------------- Store final result as a csv file\n",
    "cta_df.to_csv(\"chicago_data/chicago_cta_v2.csv\", encoding=\"utf-8\")"
   ]
  },
  {
   "cell_type": "code",
   "execution_count": null,
   "metadata": {},
   "outputs": [],
   "source": []
  }
 ],
 "metadata": {
  "kernelspec": {
   "display_name": "Python 3",
   "language": "python",
   "name": "python3"
  },
  "language_info": {
   "codemirror_mode": {
    "name": "ipython",
    "version": 3
   },
   "file_extension": ".py",
   "mimetype": "text/x-python",
   "name": "python",
   "nbconvert_exporter": "python",
   "pygments_lexer": "ipython3",
   "version": "3.8.5"
  }
 },
 "nbformat": 4,
 "nbformat_minor": 5
}
